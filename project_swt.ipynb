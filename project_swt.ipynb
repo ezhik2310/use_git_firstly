{
 "cells": [
  {
   "cell_type": "markdown",
   "metadata": {
    "toc": true
   },
   "source": [
    "<h1>Содержание<span class=\"tocSkip\"></span></h1>\n",
    "<div class=\"toc\"><ul class=\"toc-item\"><li><span><a href=\"#Подготовка-данных\" data-toc-modified-id=\"Подготовка-данных-1\"><span class=\"toc-item-num\">1&nbsp;&nbsp;</span>Подготовка данных</a></span><ul class=\"toc-item\"><li><span><a href=\"#Знакомство-с-данными\" data-toc-modified-id=\"Знакомство-с-данными-1.1\"><span class=\"toc-item-num\">1.1&nbsp;&nbsp;</span>Знакомство с данными</a></span></li><li><span><a href=\"#Изменение-данных-и-заполнение-пропусков\" data-toc-modified-id=\"Изменение-данных-и-заполнение-пропусков-1.2\"><span class=\"toc-item-num\">1.2&nbsp;&nbsp;</span>Изменение данных и заполнение пропусков</a></span></li><li><span><a href=\"#Изменение-количественных-и-категориальных-признаков\" data-toc-modified-id=\"Изменение-количественных-и-категориальных-признаков-1.3\"><span class=\"toc-item-num\">1.3&nbsp;&nbsp;</span>Изменение количественных и категориальных признаков</a></span></li></ul></li><li><span><a href=\"#Исследование-задачи\" data-toc-modified-id=\"Исследование-задачи-2\"><span class=\"toc-item-num\">2&nbsp;&nbsp;</span>Исследование задачи</a></span></li><li><span><a href=\"#Борьба-с-дисбалансом\" data-toc-modified-id=\"Борьба-с-дисбалансом-3\"><span class=\"toc-item-num\">3&nbsp;&nbsp;</span>Борьба с дисбалансом</a></span><ul class=\"toc-item\"><li><span><a href=\"#Случайный-лес\" data-toc-modified-id=\"Случайный-лес-3.1\"><span class=\"toc-item-num\">3.1&nbsp;&nbsp;</span>Случайный лес</a></span></li><li><span><a href=\"#Решающее-дерево\" data-toc-modified-id=\"Решающее-дерево-3.2\"><span class=\"toc-item-num\">3.2&nbsp;&nbsp;</span>Решающее дерево</a></span></li><li><span><a href=\"#Логистическая-регрессия\" data-toc-modified-id=\"Логистическая-регрессия-3.3\"><span class=\"toc-item-num\">3.3&nbsp;&nbsp;</span>Логистическая регрессия</a></span></li></ul></li><li><span><a href=\"#Тестирование-модели\" data-toc-modified-id=\"Тестирование-модели-4\"><span class=\"toc-item-num\">4&nbsp;&nbsp;</span>Тестирование модели</a></span></li><li><span><a href=\"#Вывод\" data-toc-modified-id=\"Вывод-5\"><span class=\"toc-item-num\">5&nbsp;&nbsp;</span><strong>Вывод</strong></a></span></li><li><span><a href=\"#Чек-лист-готовности-проекта\" data-toc-modified-id=\"Чек-лист-готовности-проекта-6\"><span class=\"toc-item-num\">6&nbsp;&nbsp;</span>Чек-лист готовности проекта</a></span></li></ul></div>"
   ]
  },
  {
   "cell_type": "markdown",
   "metadata": {},
   "source": [
    "# Отток клиентов"
   ]
  },
  {
   "cell_type": "markdown",
   "metadata": {},
   "source": [
    "Из «Бета-Банка» стали уходить клиенты. Каждый месяц. Немного, но заметно. Банковские маркетологи посчитали: сохранять текущих клиентов дешевле, чем привлекать новых.\n",
    "\n",
    "Нужно спрогнозировать, уйдёт клиент из банка в ближайшее время или нет. Вам предоставлены исторические данные о поведении клиентов и расторжении договоров с банком. \n",
    "\n",
    "Постройте модель с предельно большим значением *F1*-меры. Чтобы сдать проект успешно, нужно довести метрику до 0.59. Проверьте *F1*-меру на тестовой выборке самостоятельно.\n",
    "\n",
    "Дополнительно измеряйте *AUC-ROC*, сравнивайте её значение с *F1*-мерой.\n",
    "\n",
    "Источник данных: [https://www.kaggle.com/barelydedicated/bank-customer-churn-modeling](https://www.kaggle.com/barelydedicated/bank-customer-churn-modeling)"
   ]
  },
  {
   "cell_type": "markdown",
   "metadata": {},
   "source": [
    "**Описание данных**"
   ]
  },
  {
   "cell_type": "markdown",
   "metadata": {},
   "source": [
    "1. Данные находятся в файле /datasets/Churn.csv (англ. «отток клиентов»)\n",
    "2. Признаки:\n",
    "    - RowNumber — индекс строки в данных\n",
    "    - CustomerId — уникальный идентификатор клиента\n",
    "    - Surname — фамилия\n",
    "    - CreditScore — кредитный рейтинг\n",
    "    - Geography — страна проживания\n",
    "    - Gender — пол\n",
    "    - Age — возраст\n",
    "    - Tenure — сколько лет человек является клиентом банка\n",
    "    - Balance — баланс на счёте\n",
    "    - NumOfProducts — количество продуктов банка, используемых клиентом\n",
    "    - HasCrCard — наличие кредитной карты\n",
    "    - IsActiveMember — активность клиента\n",
    "    - EstimatedSalary — предполагаемая зарплата\n",
    "3. Целевой признак\n",
    "    - Exited — факт ухода клиента"
   ]
  },
  {
   "cell_type": "markdown",
   "metadata": {},
   "source": [
    "## Подготовка данных"
   ]
  },
  {
   "cell_type": "code",
   "execution_count": 1,
   "metadata": {},
   "outputs": [],
   "source": [
    "#Необохидымые библиотеки\n",
    "import pandas as pd\n",
    "import numpy as np\n",
    "import matplotlib.pyplot as plt\n",
    "from sklearn.preprocessing import OrdinalEncoder, StandardScaler\n",
    "from sklearn.tree import DecisionTreeClassifier\n",
    "from sklearn.ensemble import RandomForestClassifier\n",
    "from sklearn.linear_model import LogisticRegression\n",
    "from sklearn.model_selection import train_test_split\n",
    "from sklearn.metrics import f1_score, accuracy_score, roc_curve, roc_auc_score\n",
    "from sklearn.utils import shuffle"
   ]
  },
  {
   "cell_type": "markdown",
   "metadata": {},
   "source": [
    "### Знакомство с данными"
   ]
  },
  {
   "cell_type": "code",
   "execution_count": 2,
   "metadata": {},
   "outputs": [
    {
     "data": {
      "text/html": [
       "<div>\n",
       "<style scoped>\n",
       "    .dataframe tbody tr th:only-of-type {\n",
       "        vertical-align: middle;\n",
       "    }\n",
       "\n",
       "    .dataframe tbody tr th {\n",
       "        vertical-align: top;\n",
       "    }\n",
       "\n",
       "    .dataframe thead th {\n",
       "        text-align: right;\n",
       "    }\n",
       "</style>\n",
       "<table border=\"1\" class=\"dataframe\">\n",
       "  <thead>\n",
       "    <tr style=\"text-align: right;\">\n",
       "      <th></th>\n",
       "      <th>RowNumber</th>\n",
       "      <th>CustomerId</th>\n",
       "      <th>Surname</th>\n",
       "      <th>CreditScore</th>\n",
       "      <th>Geography</th>\n",
       "      <th>Gender</th>\n",
       "      <th>Age</th>\n",
       "      <th>Tenure</th>\n",
       "      <th>Balance</th>\n",
       "      <th>NumOfProducts</th>\n",
       "      <th>HasCrCard</th>\n",
       "      <th>IsActiveMember</th>\n",
       "      <th>EstimatedSalary</th>\n",
       "      <th>Exited</th>\n",
       "    </tr>\n",
       "  </thead>\n",
       "  <tbody>\n",
       "    <tr>\n",
       "      <th>0</th>\n",
       "      <td>1</td>\n",
       "      <td>15634602</td>\n",
       "      <td>Hargrave</td>\n",
       "      <td>619</td>\n",
       "      <td>France</td>\n",
       "      <td>Female</td>\n",
       "      <td>42</td>\n",
       "      <td>2.0</td>\n",
       "      <td>0.00</td>\n",
       "      <td>1</td>\n",
       "      <td>1</td>\n",
       "      <td>1</td>\n",
       "      <td>101348.88</td>\n",
       "      <td>1</td>\n",
       "    </tr>\n",
       "    <tr>\n",
       "      <th>1</th>\n",
       "      <td>2</td>\n",
       "      <td>15647311</td>\n",
       "      <td>Hill</td>\n",
       "      <td>608</td>\n",
       "      <td>Spain</td>\n",
       "      <td>Female</td>\n",
       "      <td>41</td>\n",
       "      <td>1.0</td>\n",
       "      <td>83807.86</td>\n",
       "      <td>1</td>\n",
       "      <td>0</td>\n",
       "      <td>1</td>\n",
       "      <td>112542.58</td>\n",
       "      <td>0</td>\n",
       "    </tr>\n",
       "    <tr>\n",
       "      <th>2</th>\n",
       "      <td>3</td>\n",
       "      <td>15619304</td>\n",
       "      <td>Onio</td>\n",
       "      <td>502</td>\n",
       "      <td>France</td>\n",
       "      <td>Female</td>\n",
       "      <td>42</td>\n",
       "      <td>8.0</td>\n",
       "      <td>159660.80</td>\n",
       "      <td>3</td>\n",
       "      <td>1</td>\n",
       "      <td>0</td>\n",
       "      <td>113931.57</td>\n",
       "      <td>1</td>\n",
       "    </tr>\n",
       "    <tr>\n",
       "      <th>3</th>\n",
       "      <td>4</td>\n",
       "      <td>15701354</td>\n",
       "      <td>Boni</td>\n",
       "      <td>699</td>\n",
       "      <td>France</td>\n",
       "      <td>Female</td>\n",
       "      <td>39</td>\n",
       "      <td>1.0</td>\n",
       "      <td>0.00</td>\n",
       "      <td>2</td>\n",
       "      <td>0</td>\n",
       "      <td>0</td>\n",
       "      <td>93826.63</td>\n",
       "      <td>0</td>\n",
       "    </tr>\n",
       "    <tr>\n",
       "      <th>4</th>\n",
       "      <td>5</td>\n",
       "      <td>15737888</td>\n",
       "      <td>Mitchell</td>\n",
       "      <td>850</td>\n",
       "      <td>Spain</td>\n",
       "      <td>Female</td>\n",
       "      <td>43</td>\n",
       "      <td>2.0</td>\n",
       "      <td>125510.82</td>\n",
       "      <td>1</td>\n",
       "      <td>1</td>\n",
       "      <td>1</td>\n",
       "      <td>79084.10</td>\n",
       "      <td>0</td>\n",
       "    </tr>\n",
       "  </tbody>\n",
       "</table>\n",
       "</div>"
      ],
      "text/plain": [
       "   RowNumber  CustomerId   Surname  CreditScore Geography  Gender  Age  \\\n",
       "0          1    15634602  Hargrave          619    France  Female   42   \n",
       "1          2    15647311      Hill          608     Spain  Female   41   \n",
       "2          3    15619304      Onio          502    France  Female   42   \n",
       "3          4    15701354      Boni          699    France  Female   39   \n",
       "4          5    15737888  Mitchell          850     Spain  Female   43   \n",
       "\n",
       "   Tenure    Balance  NumOfProducts  HasCrCard  IsActiveMember  \\\n",
       "0     2.0       0.00              1          1               1   \n",
       "1     1.0   83807.86              1          0               1   \n",
       "2     8.0  159660.80              3          1               0   \n",
       "3     1.0       0.00              2          0               0   \n",
       "4     2.0  125510.82              1          1               1   \n",
       "\n",
       "   EstimatedSalary  Exited  \n",
       "0        101348.88       1  \n",
       "1        112542.58       0  \n",
       "2        113931.57       1  \n",
       "3         93826.63       0  \n",
       "4         79084.10       0  "
      ]
     },
     "metadata": {},
     "output_type": "display_data"
    }
   ],
   "source": [
    "df = pd.read_csv('Churn.csv')\n",
    "display(df.head())"
   ]
  },
  {
   "cell_type": "markdown",
   "metadata": {},
   "source": [
    "Для начала взглянем на типы данных в датафрейме"
   ]
  },
  {
   "cell_type": "code",
   "execution_count": 3,
   "metadata": {},
   "outputs": [
    {
     "data": {
      "text/plain": [
       "RowNumber            int64\n",
       "CustomerId           int64\n",
       "Surname             object\n",
       "CreditScore          int64\n",
       "Geography           object\n",
       "Gender              object\n",
       "Age                  int64\n",
       "Tenure             float64\n",
       "Balance            float64\n",
       "NumOfProducts        int64\n",
       "HasCrCard            int64\n",
       "IsActiveMember       int64\n",
       "EstimatedSalary    float64\n",
       "Exited               int64\n",
       "dtype: object"
      ]
     },
     "execution_count": 3,
     "metadata": {},
     "output_type": "execute_result"
    }
   ],
   "source": [
    "df.dtypes"
   ]
  },
  {
   "cell_type": "code",
   "execution_count": 4,
   "metadata": {},
   "outputs": [
    {
     "data": {
      "text/plain": [
       "1.0     952\n",
       "2.0     950\n",
       "8.0     933\n",
       "3.0     928\n",
       "5.0     927\n",
       "7.0     925\n",
       "4.0     885\n",
       "9.0     882\n",
       "6.0     881\n",
       "10.0    446\n",
       "0.0     382\n",
       "Name: Tenure, dtype: int64"
      ]
     },
     "execution_count": 4,
     "metadata": {},
     "output_type": "execute_result"
    }
   ],
   "source": [
    "#Посмотрим на значения, которые встречаются в Tenure\n",
    "df['Tenure'].value_counts()"
   ]
  },
  {
   "cell_type": "code",
   "execution_count": 5,
   "metadata": {},
   "outputs": [
    {
     "data": {
      "text/html": [
       "<div>\n",
       "<style scoped>\n",
       "    .dataframe tbody tr th:only-of-type {\n",
       "        vertical-align: middle;\n",
       "    }\n",
       "\n",
       "    .dataframe tbody tr th {\n",
       "        vertical-align: top;\n",
       "    }\n",
       "\n",
       "    .dataframe thead th {\n",
       "        text-align: right;\n",
       "    }\n",
       "</style>\n",
       "<table border=\"1\" class=\"dataframe\">\n",
       "  <thead>\n",
       "    <tr style=\"text-align: right;\">\n",
       "      <th></th>\n",
       "      <th>RowNumber</th>\n",
       "      <th>CustomerId</th>\n",
       "      <th>CreditScore</th>\n",
       "      <th>Age</th>\n",
       "      <th>Tenure</th>\n",
       "      <th>Balance</th>\n",
       "      <th>NumOfProducts</th>\n",
       "      <th>HasCrCard</th>\n",
       "      <th>IsActiveMember</th>\n",
       "      <th>EstimatedSalary</th>\n",
       "      <th>Exited</th>\n",
       "    </tr>\n",
       "  </thead>\n",
       "  <tbody>\n",
       "    <tr>\n",
       "      <th>RowNumber</th>\n",
       "      <td>1.000000</td>\n",
       "      <td>0.004202</td>\n",
       "      <td>0.005840</td>\n",
       "      <td>0.000783</td>\n",
       "      <td>-0.007322</td>\n",
       "      <td>-0.009067</td>\n",
       "      <td>0.007246</td>\n",
       "      <td>0.000599</td>\n",
       "      <td>0.012044</td>\n",
       "      <td>-0.005988</td>\n",
       "      <td>-0.016571</td>\n",
       "    </tr>\n",
       "    <tr>\n",
       "      <th>CustomerId</th>\n",
       "      <td>0.004202</td>\n",
       "      <td>1.000000</td>\n",
       "      <td>0.005308</td>\n",
       "      <td>0.009497</td>\n",
       "      <td>-0.021418</td>\n",
       "      <td>-0.012419</td>\n",
       "      <td>0.016972</td>\n",
       "      <td>-0.014025</td>\n",
       "      <td>0.001665</td>\n",
       "      <td>0.015271</td>\n",
       "      <td>-0.006248</td>\n",
       "    </tr>\n",
       "    <tr>\n",
       "      <th>CreditScore</th>\n",
       "      <td>0.005840</td>\n",
       "      <td>0.005308</td>\n",
       "      <td>1.000000</td>\n",
       "      <td>-0.003965</td>\n",
       "      <td>-0.000062</td>\n",
       "      <td>0.006268</td>\n",
       "      <td>0.012238</td>\n",
       "      <td>-0.005458</td>\n",
       "      <td>0.025651</td>\n",
       "      <td>-0.001384</td>\n",
       "      <td>-0.027094</td>\n",
       "    </tr>\n",
       "    <tr>\n",
       "      <th>Age</th>\n",
       "      <td>0.000783</td>\n",
       "      <td>0.009497</td>\n",
       "      <td>-0.003965</td>\n",
       "      <td>1.000000</td>\n",
       "      <td>-0.013134</td>\n",
       "      <td>0.028308</td>\n",
       "      <td>-0.030680</td>\n",
       "      <td>-0.011721</td>\n",
       "      <td>0.085472</td>\n",
       "      <td>-0.007201</td>\n",
       "      <td>0.285323</td>\n",
       "    </tr>\n",
       "    <tr>\n",
       "      <th>Tenure</th>\n",
       "      <td>-0.007322</td>\n",
       "      <td>-0.021418</td>\n",
       "      <td>-0.000062</td>\n",
       "      <td>-0.013134</td>\n",
       "      <td>1.000000</td>\n",
       "      <td>-0.007911</td>\n",
       "      <td>0.011979</td>\n",
       "      <td>0.027232</td>\n",
       "      <td>-0.032178</td>\n",
       "      <td>0.010520</td>\n",
       "      <td>-0.016761</td>\n",
       "    </tr>\n",
       "    <tr>\n",
       "      <th>Balance</th>\n",
       "      <td>-0.009067</td>\n",
       "      <td>-0.012419</td>\n",
       "      <td>0.006268</td>\n",
       "      <td>0.028308</td>\n",
       "      <td>-0.007911</td>\n",
       "      <td>1.000000</td>\n",
       "      <td>-0.304180</td>\n",
       "      <td>-0.014858</td>\n",
       "      <td>-0.010084</td>\n",
       "      <td>0.012797</td>\n",
       "      <td>0.118533</td>\n",
       "    </tr>\n",
       "    <tr>\n",
       "      <th>NumOfProducts</th>\n",
       "      <td>0.007246</td>\n",
       "      <td>0.016972</td>\n",
       "      <td>0.012238</td>\n",
       "      <td>-0.030680</td>\n",
       "      <td>0.011979</td>\n",
       "      <td>-0.304180</td>\n",
       "      <td>1.000000</td>\n",
       "      <td>0.003183</td>\n",
       "      <td>0.009612</td>\n",
       "      <td>0.014204</td>\n",
       "      <td>-0.047820</td>\n",
       "    </tr>\n",
       "    <tr>\n",
       "      <th>HasCrCard</th>\n",
       "      <td>0.000599</td>\n",
       "      <td>-0.014025</td>\n",
       "      <td>-0.005458</td>\n",
       "      <td>-0.011721</td>\n",
       "      <td>0.027232</td>\n",
       "      <td>-0.014858</td>\n",
       "      <td>0.003183</td>\n",
       "      <td>1.000000</td>\n",
       "      <td>-0.011866</td>\n",
       "      <td>-0.009933</td>\n",
       "      <td>-0.007138</td>\n",
       "    </tr>\n",
       "    <tr>\n",
       "      <th>IsActiveMember</th>\n",
       "      <td>0.012044</td>\n",
       "      <td>0.001665</td>\n",
       "      <td>0.025651</td>\n",
       "      <td>0.085472</td>\n",
       "      <td>-0.032178</td>\n",
       "      <td>-0.010084</td>\n",
       "      <td>0.009612</td>\n",
       "      <td>-0.011866</td>\n",
       "      <td>1.000000</td>\n",
       "      <td>-0.011421</td>\n",
       "      <td>-0.156128</td>\n",
       "    </tr>\n",
       "    <tr>\n",
       "      <th>EstimatedSalary</th>\n",
       "      <td>-0.005988</td>\n",
       "      <td>0.015271</td>\n",
       "      <td>-0.001384</td>\n",
       "      <td>-0.007201</td>\n",
       "      <td>0.010520</td>\n",
       "      <td>0.012797</td>\n",
       "      <td>0.014204</td>\n",
       "      <td>-0.009933</td>\n",
       "      <td>-0.011421</td>\n",
       "      <td>1.000000</td>\n",
       "      <td>0.012097</td>\n",
       "    </tr>\n",
       "    <tr>\n",
       "      <th>Exited</th>\n",
       "      <td>-0.016571</td>\n",
       "      <td>-0.006248</td>\n",
       "      <td>-0.027094</td>\n",
       "      <td>0.285323</td>\n",
       "      <td>-0.016761</td>\n",
       "      <td>0.118533</td>\n",
       "      <td>-0.047820</td>\n",
       "      <td>-0.007138</td>\n",
       "      <td>-0.156128</td>\n",
       "      <td>0.012097</td>\n",
       "      <td>1.000000</td>\n",
       "    </tr>\n",
       "  </tbody>\n",
       "</table>\n",
       "</div>"
      ],
      "text/plain": [
       "                 RowNumber  CustomerId  CreditScore       Age    Tenure  \\\n",
       "RowNumber         1.000000    0.004202     0.005840  0.000783 -0.007322   \n",
       "CustomerId        0.004202    1.000000     0.005308  0.009497 -0.021418   \n",
       "CreditScore       0.005840    0.005308     1.000000 -0.003965 -0.000062   \n",
       "Age               0.000783    0.009497    -0.003965  1.000000 -0.013134   \n",
       "Tenure           -0.007322   -0.021418    -0.000062 -0.013134  1.000000   \n",
       "Balance          -0.009067   -0.012419     0.006268  0.028308 -0.007911   \n",
       "NumOfProducts     0.007246    0.016972     0.012238 -0.030680  0.011979   \n",
       "HasCrCard         0.000599   -0.014025    -0.005458 -0.011721  0.027232   \n",
       "IsActiveMember    0.012044    0.001665     0.025651  0.085472 -0.032178   \n",
       "EstimatedSalary  -0.005988    0.015271    -0.001384 -0.007201  0.010520   \n",
       "Exited           -0.016571   -0.006248    -0.027094  0.285323 -0.016761   \n",
       "\n",
       "                  Balance  NumOfProducts  HasCrCard  IsActiveMember  \\\n",
       "RowNumber       -0.009067       0.007246   0.000599        0.012044   \n",
       "CustomerId      -0.012419       0.016972  -0.014025        0.001665   \n",
       "CreditScore      0.006268       0.012238  -0.005458        0.025651   \n",
       "Age              0.028308      -0.030680  -0.011721        0.085472   \n",
       "Tenure          -0.007911       0.011979   0.027232       -0.032178   \n",
       "Balance          1.000000      -0.304180  -0.014858       -0.010084   \n",
       "NumOfProducts   -0.304180       1.000000   0.003183        0.009612   \n",
       "HasCrCard       -0.014858       0.003183   1.000000       -0.011866   \n",
       "IsActiveMember  -0.010084       0.009612  -0.011866        1.000000   \n",
       "EstimatedSalary  0.012797       0.014204  -0.009933       -0.011421   \n",
       "Exited           0.118533      -0.047820  -0.007138       -0.156128   \n",
       "\n",
       "                 EstimatedSalary    Exited  \n",
       "RowNumber              -0.005988 -0.016571  \n",
       "CustomerId              0.015271 -0.006248  \n",
       "CreditScore            -0.001384 -0.027094  \n",
       "Age                    -0.007201  0.285323  \n",
       "Tenure                  0.010520 -0.016761  \n",
       "Balance                 0.012797  0.118533  \n",
       "NumOfProducts           0.014204 -0.047820  \n",
       "HasCrCard              -0.009933 -0.007138  \n",
       "IsActiveMember         -0.011421 -0.156128  \n",
       "EstimatedSalary         1.000000  0.012097  \n",
       "Exited                  0.012097  1.000000  "
      ]
     },
     "execution_count": 5,
     "metadata": {},
     "output_type": "execute_result"
    }
   ],
   "source": [
    "#Взглянем на корреляцию, чтобы найти взаимозаменяющие столбцы\n",
    "df.corr()"
   ]
  },
  {
   "cell_type": "code",
   "execution_count": 6,
   "metadata": {},
   "outputs": [
    {
     "data": {
      "text/plain": [
       "0"
      ]
     },
     "execution_count": 6,
     "metadata": {},
     "output_type": "execute_result"
    }
   ],
   "source": [
    "# Проверим на дубликаты\n",
    "df_obj_col = ['Surname','Geography','Gender']\n",
    "for col in df_obj_col:#Приведем все object столбцы к нижнему регистру\n",
    "    df[col] = df[col].str.lower()\n",
    "df.duplicated().sum()"
   ]
  },
  {
   "cell_type": "code",
   "execution_count": 7,
   "metadata": {},
   "outputs": [
    {
     "data": {
      "text/plain": [
       "RowNumber            0\n",
       "CustomerId           0\n",
       "Surname              0\n",
       "CreditScore          0\n",
       "Geography            0\n",
       "Gender               0\n",
       "Age                  0\n",
       "Tenure             909\n",
       "Balance              0\n",
       "NumOfProducts        0\n",
       "HasCrCard            0\n",
       "IsActiveMember       0\n",
       "EstimatedSalary      0\n",
       "Exited               0\n",
       "dtype: int64"
      ]
     },
     "execution_count": 7,
     "metadata": {},
     "output_type": "execute_result"
    }
   ],
   "source": [
    "# Проверим на пропуски\n",
    "df.isna().sum()"
   ]
  },
  {
   "cell_type": "code",
   "execution_count": 8,
   "metadata": {
    "scrolled": true
   },
   "outputs": [
    {
     "data": {
      "text/html": [
       "<div>\n",
       "<style scoped>\n",
       "    .dataframe tbody tr th:only-of-type {\n",
       "        vertical-align: middle;\n",
       "    }\n",
       "\n",
       "    .dataframe tbody tr th {\n",
       "        vertical-align: top;\n",
       "    }\n",
       "\n",
       "    .dataframe thead th {\n",
       "        text-align: right;\n",
       "    }\n",
       "</style>\n",
       "<table border=\"1\" class=\"dataframe\">\n",
       "  <thead>\n",
       "    <tr style=\"text-align: right;\">\n",
       "      <th></th>\n",
       "      <th>RowNumber</th>\n",
       "      <th>CustomerId</th>\n",
       "      <th>CreditScore</th>\n",
       "      <th>Age</th>\n",
       "      <th>Tenure</th>\n",
       "      <th>Balance</th>\n",
       "      <th>NumOfProducts</th>\n",
       "      <th>HasCrCard</th>\n",
       "      <th>IsActiveMember</th>\n",
       "      <th>EstimatedSalary</th>\n",
       "      <th>Exited</th>\n",
       "    </tr>\n",
       "  </thead>\n",
       "  <tbody>\n",
       "    <tr>\n",
       "      <th>count</th>\n",
       "      <td>10000.00000</td>\n",
       "      <td>1.000000e+04</td>\n",
       "      <td>10000.000000</td>\n",
       "      <td>10000.000000</td>\n",
       "      <td>9091.000000</td>\n",
       "      <td>10000.000000</td>\n",
       "      <td>10000.000000</td>\n",
       "      <td>10000.00000</td>\n",
       "      <td>10000.000000</td>\n",
       "      <td>10000.000000</td>\n",
       "      <td>10000.000000</td>\n",
       "    </tr>\n",
       "    <tr>\n",
       "      <th>mean</th>\n",
       "      <td>5000.50000</td>\n",
       "      <td>1.569094e+07</td>\n",
       "      <td>650.528800</td>\n",
       "      <td>38.921800</td>\n",
       "      <td>4.997690</td>\n",
       "      <td>76485.889288</td>\n",
       "      <td>1.530200</td>\n",
       "      <td>0.70550</td>\n",
       "      <td>0.515100</td>\n",
       "      <td>100090.239881</td>\n",
       "      <td>0.203700</td>\n",
       "    </tr>\n",
       "    <tr>\n",
       "      <th>std</th>\n",
       "      <td>2886.89568</td>\n",
       "      <td>7.193619e+04</td>\n",
       "      <td>96.653299</td>\n",
       "      <td>10.487806</td>\n",
       "      <td>2.894723</td>\n",
       "      <td>62397.405202</td>\n",
       "      <td>0.581654</td>\n",
       "      <td>0.45584</td>\n",
       "      <td>0.499797</td>\n",
       "      <td>57510.492818</td>\n",
       "      <td>0.402769</td>\n",
       "    </tr>\n",
       "    <tr>\n",
       "      <th>min</th>\n",
       "      <td>1.00000</td>\n",
       "      <td>1.556570e+07</td>\n",
       "      <td>350.000000</td>\n",
       "      <td>18.000000</td>\n",
       "      <td>0.000000</td>\n",
       "      <td>0.000000</td>\n",
       "      <td>1.000000</td>\n",
       "      <td>0.00000</td>\n",
       "      <td>0.000000</td>\n",
       "      <td>11.580000</td>\n",
       "      <td>0.000000</td>\n",
       "    </tr>\n",
       "    <tr>\n",
       "      <th>25%</th>\n",
       "      <td>2500.75000</td>\n",
       "      <td>1.562853e+07</td>\n",
       "      <td>584.000000</td>\n",
       "      <td>32.000000</td>\n",
       "      <td>2.000000</td>\n",
       "      <td>0.000000</td>\n",
       "      <td>1.000000</td>\n",
       "      <td>0.00000</td>\n",
       "      <td>0.000000</td>\n",
       "      <td>51002.110000</td>\n",
       "      <td>0.000000</td>\n",
       "    </tr>\n",
       "    <tr>\n",
       "      <th>50%</th>\n",
       "      <td>5000.50000</td>\n",
       "      <td>1.569074e+07</td>\n",
       "      <td>652.000000</td>\n",
       "      <td>37.000000</td>\n",
       "      <td>5.000000</td>\n",
       "      <td>97198.540000</td>\n",
       "      <td>1.000000</td>\n",
       "      <td>1.00000</td>\n",
       "      <td>1.000000</td>\n",
       "      <td>100193.915000</td>\n",
       "      <td>0.000000</td>\n",
       "    </tr>\n",
       "    <tr>\n",
       "      <th>75%</th>\n",
       "      <td>7500.25000</td>\n",
       "      <td>1.575323e+07</td>\n",
       "      <td>718.000000</td>\n",
       "      <td>44.000000</td>\n",
       "      <td>7.000000</td>\n",
       "      <td>127644.240000</td>\n",
       "      <td>2.000000</td>\n",
       "      <td>1.00000</td>\n",
       "      <td>1.000000</td>\n",
       "      <td>149388.247500</td>\n",
       "      <td>0.000000</td>\n",
       "    </tr>\n",
       "    <tr>\n",
       "      <th>max</th>\n",
       "      <td>10000.00000</td>\n",
       "      <td>1.581569e+07</td>\n",
       "      <td>850.000000</td>\n",
       "      <td>92.000000</td>\n",
       "      <td>10.000000</td>\n",
       "      <td>250898.090000</td>\n",
       "      <td>4.000000</td>\n",
       "      <td>1.00000</td>\n",
       "      <td>1.000000</td>\n",
       "      <td>199992.480000</td>\n",
       "      <td>1.000000</td>\n",
       "    </tr>\n",
       "  </tbody>\n",
       "</table>\n",
       "</div>"
      ],
      "text/plain": [
       "         RowNumber    CustomerId   CreditScore           Age       Tenure  \\\n",
       "count  10000.00000  1.000000e+04  10000.000000  10000.000000  9091.000000   \n",
       "mean    5000.50000  1.569094e+07    650.528800     38.921800     4.997690   \n",
       "std     2886.89568  7.193619e+04     96.653299     10.487806     2.894723   \n",
       "min        1.00000  1.556570e+07    350.000000     18.000000     0.000000   \n",
       "25%     2500.75000  1.562853e+07    584.000000     32.000000     2.000000   \n",
       "50%     5000.50000  1.569074e+07    652.000000     37.000000     5.000000   \n",
       "75%     7500.25000  1.575323e+07    718.000000     44.000000     7.000000   \n",
       "max    10000.00000  1.581569e+07    850.000000     92.000000    10.000000   \n",
       "\n",
       "             Balance  NumOfProducts    HasCrCard  IsActiveMember  \\\n",
       "count   10000.000000   10000.000000  10000.00000    10000.000000   \n",
       "mean    76485.889288       1.530200      0.70550        0.515100   \n",
       "std     62397.405202       0.581654      0.45584        0.499797   \n",
       "min         0.000000       1.000000      0.00000        0.000000   \n",
       "25%         0.000000       1.000000      0.00000        0.000000   \n",
       "50%     97198.540000       1.000000      1.00000        1.000000   \n",
       "75%    127644.240000       2.000000      1.00000        1.000000   \n",
       "max    250898.090000       4.000000      1.00000        1.000000   \n",
       "\n",
       "       EstimatedSalary        Exited  \n",
       "count     10000.000000  10000.000000  \n",
       "mean     100090.239881      0.203700  \n",
       "std       57510.492818      0.402769  \n",
       "min          11.580000      0.000000  \n",
       "25%       51002.110000      0.000000  \n",
       "50%      100193.915000      0.000000  \n",
       "75%      149388.247500      0.000000  \n",
       "max      199992.480000      1.000000  "
      ]
     },
     "execution_count": 8,
     "metadata": {},
     "output_type": "execute_result"
    }
   ],
   "source": [
    "# Взглянем на количественные данные\n",
    "df.describe()"
   ]
  },
  {
   "cell_type": "markdown",
   "metadata": {},
   "source": [
    "**Вывод**"
   ]
  },
  {
   "cell_type": "markdown",
   "metadata": {},
   "source": [
    "Критических проблем в данных нет, но необходимо:  \n",
    "1. Изменить тип данных в стобце Tenure с float на int\n",
    "2. Заполнить пропуски в Tenure\n",
    "3. Переведем категориальные в дамми-признаки\n",
    "4. Масштабируем количественные признаки"
   ]
  },
  {
   "cell_type": "markdown",
   "metadata": {},
   "source": [
    "### Изменение данных и заполнение пропусков"
   ]
  },
  {
   "cell_type": "markdown",
   "metadata": {},
   "source": [
    "Для начала заполним пропуски.  \n",
    "Взглянем нет ли зависимостей в строках с пропущенными значениями"
   ]
  },
  {
   "cell_type": "code",
   "execution_count": 9,
   "metadata": {
    "scrolled": false
   },
   "outputs": [
    {
     "data": {
      "text/html": [
       "<div>\n",
       "<style scoped>\n",
       "    .dataframe tbody tr th:only-of-type {\n",
       "        vertical-align: middle;\n",
       "    }\n",
       "\n",
       "    .dataframe tbody tr th {\n",
       "        vertical-align: top;\n",
       "    }\n",
       "\n",
       "    .dataframe thead th {\n",
       "        text-align: right;\n",
       "    }\n",
       "</style>\n",
       "<table border=\"1\" class=\"dataframe\">\n",
       "  <thead>\n",
       "    <tr style=\"text-align: right;\">\n",
       "      <th></th>\n",
       "      <th>RowNumber</th>\n",
       "      <th>CustomerId</th>\n",
       "      <th>Surname</th>\n",
       "      <th>CreditScore</th>\n",
       "      <th>Geography</th>\n",
       "      <th>Gender</th>\n",
       "      <th>Age</th>\n",
       "      <th>Tenure</th>\n",
       "      <th>Balance</th>\n",
       "      <th>NumOfProducts</th>\n",
       "      <th>HasCrCard</th>\n",
       "      <th>IsActiveMember</th>\n",
       "      <th>EstimatedSalary</th>\n",
       "      <th>Exited</th>\n",
       "    </tr>\n",
       "  </thead>\n",
       "  <tbody>\n",
       "    <tr>\n",
       "      <th>30</th>\n",
       "      <td>31</td>\n",
       "      <td>15589475</td>\n",
       "      <td>azikiwe</td>\n",
       "      <td>591</td>\n",
       "      <td>spain</td>\n",
       "      <td>female</td>\n",
       "      <td>39</td>\n",
       "      <td>NaN</td>\n",
       "      <td>0.00</td>\n",
       "      <td>3</td>\n",
       "      <td>1</td>\n",
       "      <td>0</td>\n",
       "      <td>140469.38</td>\n",
       "      <td>1</td>\n",
       "    </tr>\n",
       "    <tr>\n",
       "      <th>48</th>\n",
       "      <td>49</td>\n",
       "      <td>15766205</td>\n",
       "      <td>yin</td>\n",
       "      <td>550</td>\n",
       "      <td>germany</td>\n",
       "      <td>male</td>\n",
       "      <td>38</td>\n",
       "      <td>NaN</td>\n",
       "      <td>103391.38</td>\n",
       "      <td>1</td>\n",
       "      <td>0</td>\n",
       "      <td>1</td>\n",
       "      <td>90878.13</td>\n",
       "      <td>0</td>\n",
       "    </tr>\n",
       "    <tr>\n",
       "      <th>51</th>\n",
       "      <td>52</td>\n",
       "      <td>15768193</td>\n",
       "      <td>trevisani</td>\n",
       "      <td>585</td>\n",
       "      <td>germany</td>\n",
       "      <td>male</td>\n",
       "      <td>36</td>\n",
       "      <td>NaN</td>\n",
       "      <td>146050.97</td>\n",
       "      <td>2</td>\n",
       "      <td>0</td>\n",
       "      <td>0</td>\n",
       "      <td>86424.57</td>\n",
       "      <td>0</td>\n",
       "    </tr>\n",
       "    <tr>\n",
       "      <th>53</th>\n",
       "      <td>54</td>\n",
       "      <td>15702298</td>\n",
       "      <td>parkhill</td>\n",
       "      <td>655</td>\n",
       "      <td>germany</td>\n",
       "      <td>male</td>\n",
       "      <td>41</td>\n",
       "      <td>NaN</td>\n",
       "      <td>125561.97</td>\n",
       "      <td>1</td>\n",
       "      <td>0</td>\n",
       "      <td>0</td>\n",
       "      <td>164040.94</td>\n",
       "      <td>1</td>\n",
       "    </tr>\n",
       "    <tr>\n",
       "      <th>60</th>\n",
       "      <td>61</td>\n",
       "      <td>15651280</td>\n",
       "      <td>hunter</td>\n",
       "      <td>742</td>\n",
       "      <td>germany</td>\n",
       "      <td>male</td>\n",
       "      <td>35</td>\n",
       "      <td>NaN</td>\n",
       "      <td>136857.00</td>\n",
       "      <td>1</td>\n",
       "      <td>0</td>\n",
       "      <td>0</td>\n",
       "      <td>84509.57</td>\n",
       "      <td>0</td>\n",
       "    </tr>\n",
       "    <tr>\n",
       "      <th>...</th>\n",
       "      <td>...</td>\n",
       "      <td>...</td>\n",
       "      <td>...</td>\n",
       "      <td>...</td>\n",
       "      <td>...</td>\n",
       "      <td>...</td>\n",
       "      <td>...</td>\n",
       "      <td>...</td>\n",
       "      <td>...</td>\n",
       "      <td>...</td>\n",
       "      <td>...</td>\n",
       "      <td>...</td>\n",
       "      <td>...</td>\n",
       "      <td>...</td>\n",
       "    </tr>\n",
       "    <tr>\n",
       "      <th>9944</th>\n",
       "      <td>9945</td>\n",
       "      <td>15703923</td>\n",
       "      <td>cameron</td>\n",
       "      <td>744</td>\n",
       "      <td>germany</td>\n",
       "      <td>male</td>\n",
       "      <td>41</td>\n",
       "      <td>NaN</td>\n",
       "      <td>190409.34</td>\n",
       "      <td>2</td>\n",
       "      <td>1</td>\n",
       "      <td>1</td>\n",
       "      <td>138361.48</td>\n",
       "      <td>0</td>\n",
       "    </tr>\n",
       "    <tr>\n",
       "      <th>9956</th>\n",
       "      <td>9957</td>\n",
       "      <td>15707861</td>\n",
       "      <td>nucci</td>\n",
       "      <td>520</td>\n",
       "      <td>france</td>\n",
       "      <td>female</td>\n",
       "      <td>46</td>\n",
       "      <td>NaN</td>\n",
       "      <td>85216.61</td>\n",
       "      <td>1</td>\n",
       "      <td>1</td>\n",
       "      <td>0</td>\n",
       "      <td>117369.52</td>\n",
       "      <td>1</td>\n",
       "    </tr>\n",
       "    <tr>\n",
       "      <th>9964</th>\n",
       "      <td>9965</td>\n",
       "      <td>15642785</td>\n",
       "      <td>douglas</td>\n",
       "      <td>479</td>\n",
       "      <td>france</td>\n",
       "      <td>male</td>\n",
       "      <td>34</td>\n",
       "      <td>NaN</td>\n",
       "      <td>117593.48</td>\n",
       "      <td>2</td>\n",
       "      <td>0</td>\n",
       "      <td>0</td>\n",
       "      <td>113308.29</td>\n",
       "      <td>0</td>\n",
       "    </tr>\n",
       "    <tr>\n",
       "      <th>9985</th>\n",
       "      <td>9986</td>\n",
       "      <td>15586914</td>\n",
       "      <td>nepean</td>\n",
       "      <td>659</td>\n",
       "      <td>france</td>\n",
       "      <td>male</td>\n",
       "      <td>36</td>\n",
       "      <td>NaN</td>\n",
       "      <td>123841.49</td>\n",
       "      <td>2</td>\n",
       "      <td>1</td>\n",
       "      <td>0</td>\n",
       "      <td>96833.00</td>\n",
       "      <td>0</td>\n",
       "    </tr>\n",
       "    <tr>\n",
       "      <th>9999</th>\n",
       "      <td>10000</td>\n",
       "      <td>15628319</td>\n",
       "      <td>walker</td>\n",
       "      <td>792</td>\n",
       "      <td>france</td>\n",
       "      <td>female</td>\n",
       "      <td>28</td>\n",
       "      <td>NaN</td>\n",
       "      <td>130142.79</td>\n",
       "      <td>1</td>\n",
       "      <td>1</td>\n",
       "      <td>0</td>\n",
       "      <td>38190.78</td>\n",
       "      <td>0</td>\n",
       "    </tr>\n",
       "  </tbody>\n",
       "</table>\n",
       "<p>909 rows × 14 columns</p>\n",
       "</div>"
      ],
      "text/plain": [
       "      RowNumber  CustomerId    Surname  CreditScore Geography  Gender  Age  \\\n",
       "30           31    15589475    azikiwe          591     spain  female   39   \n",
       "48           49    15766205        yin          550   germany    male   38   \n",
       "51           52    15768193  trevisani          585   germany    male   36   \n",
       "53           54    15702298   parkhill          655   germany    male   41   \n",
       "60           61    15651280     hunter          742   germany    male   35   \n",
       "...         ...         ...        ...          ...       ...     ...  ...   \n",
       "9944       9945    15703923    cameron          744   germany    male   41   \n",
       "9956       9957    15707861      nucci          520    france  female   46   \n",
       "9964       9965    15642785    douglas          479    france    male   34   \n",
       "9985       9986    15586914     nepean          659    france    male   36   \n",
       "9999      10000    15628319     walker          792    france  female   28   \n",
       "\n",
       "      Tenure    Balance  NumOfProducts  HasCrCard  IsActiveMember  \\\n",
       "30       NaN       0.00              3          1               0   \n",
       "48       NaN  103391.38              1          0               1   \n",
       "51       NaN  146050.97              2          0               0   \n",
       "53       NaN  125561.97              1          0               0   \n",
       "60       NaN  136857.00              1          0               0   \n",
       "...      ...        ...            ...        ...             ...   \n",
       "9944     NaN  190409.34              2          1               1   \n",
       "9956     NaN   85216.61              1          1               0   \n",
       "9964     NaN  117593.48              2          0               0   \n",
       "9985     NaN  123841.49              2          1               0   \n",
       "9999     NaN  130142.79              1          1               0   \n",
       "\n",
       "      EstimatedSalary  Exited  \n",
       "30          140469.38       1  \n",
       "48           90878.13       0  \n",
       "51           86424.57       0  \n",
       "53          164040.94       1  \n",
       "60           84509.57       0  \n",
       "...               ...     ...  \n",
       "9944        138361.48       0  \n",
       "9956        117369.52       1  \n",
       "9964        113308.29       0  \n",
       "9985         96833.00       0  \n",
       "9999         38190.78       0  \n",
       "\n",
       "[909 rows x 14 columns]"
      ]
     },
     "execution_count": 9,
     "metadata": {},
     "output_type": "execute_result"
    }
   ],
   "source": [
    "df[df['Tenure'].isna()]"
   ]
  },
  {
   "cell_type": "markdown",
   "metadata": {},
   "source": [
    "Заменим пропущенные значения медианой в зависимости от возраста."
   ]
  },
  {
   "cell_type": "code",
   "execution_count": 10,
   "metadata": {},
   "outputs": [],
   "source": [
    "df['Tenure'] = df.groupby('Age')['Tenure'].transform(lambda group : group.fillna(group.mean()))"
   ]
  },
  {
   "cell_type": "code",
   "execution_count": 11,
   "metadata": {},
   "outputs": [],
   "source": [
    "#Изменим тип данных\n",
    "df['Tenure'] = df['Tenure'].astype('int')"
   ]
  },
  {
   "cell_type": "markdown",
   "metadata": {},
   "source": [
    "### Изменение количественных и категориальных признаков"
   ]
  },
  {
   "cell_type": "markdown",
   "metadata": {},
   "source": [
    "Так как столбцы RowNumber, CastomerId, Surname являются малозначительными при прогнозировании, то я уберу их из нашего датафрейма"
   ]
  },
  {
   "cell_type": "code",
   "execution_count": 12,
   "metadata": {
    "scrolled": false
   },
   "outputs": [
    {
     "data": {
      "text/html": [
       "<div>\n",
       "<style scoped>\n",
       "    .dataframe tbody tr th:only-of-type {\n",
       "        vertical-align: middle;\n",
       "    }\n",
       "\n",
       "    .dataframe tbody tr th {\n",
       "        vertical-align: top;\n",
       "    }\n",
       "\n",
       "    .dataframe thead th {\n",
       "        text-align: right;\n",
       "    }\n",
       "</style>\n",
       "<table border=\"1\" class=\"dataframe\">\n",
       "  <thead>\n",
       "    <tr style=\"text-align: right;\">\n",
       "      <th></th>\n",
       "      <th>CreditScore</th>\n",
       "      <th>Age</th>\n",
       "      <th>Tenure</th>\n",
       "      <th>Balance</th>\n",
       "      <th>NumOfProducts</th>\n",
       "      <th>HasCrCard</th>\n",
       "      <th>IsActiveMember</th>\n",
       "      <th>EstimatedSalary</th>\n",
       "      <th>Exited</th>\n",
       "      <th>Geography_germany</th>\n",
       "      <th>Geography_spain</th>\n",
       "      <th>Gender_male</th>\n",
       "    </tr>\n",
       "  </thead>\n",
       "  <tbody>\n",
       "    <tr>\n",
       "      <th>0</th>\n",
       "      <td>619</td>\n",
       "      <td>42</td>\n",
       "      <td>2</td>\n",
       "      <td>0.00</td>\n",
       "      <td>1</td>\n",
       "      <td>1</td>\n",
       "      <td>1</td>\n",
       "      <td>101348.88</td>\n",
       "      <td>1</td>\n",
       "      <td>0</td>\n",
       "      <td>0</td>\n",
       "      <td>0</td>\n",
       "    </tr>\n",
       "    <tr>\n",
       "      <th>1</th>\n",
       "      <td>608</td>\n",
       "      <td>41</td>\n",
       "      <td>1</td>\n",
       "      <td>83807.86</td>\n",
       "      <td>1</td>\n",
       "      <td>0</td>\n",
       "      <td>1</td>\n",
       "      <td>112542.58</td>\n",
       "      <td>0</td>\n",
       "      <td>0</td>\n",
       "      <td>1</td>\n",
       "      <td>0</td>\n",
       "    </tr>\n",
       "    <tr>\n",
       "      <th>2</th>\n",
       "      <td>502</td>\n",
       "      <td>42</td>\n",
       "      <td>8</td>\n",
       "      <td>159660.80</td>\n",
       "      <td>3</td>\n",
       "      <td>1</td>\n",
       "      <td>0</td>\n",
       "      <td>113931.57</td>\n",
       "      <td>1</td>\n",
       "      <td>0</td>\n",
       "      <td>0</td>\n",
       "      <td>0</td>\n",
       "    </tr>\n",
       "    <tr>\n",
       "      <th>3</th>\n",
       "      <td>699</td>\n",
       "      <td>39</td>\n",
       "      <td>1</td>\n",
       "      <td>0.00</td>\n",
       "      <td>2</td>\n",
       "      <td>0</td>\n",
       "      <td>0</td>\n",
       "      <td>93826.63</td>\n",
       "      <td>0</td>\n",
       "      <td>0</td>\n",
       "      <td>0</td>\n",
       "      <td>0</td>\n",
       "    </tr>\n",
       "    <tr>\n",
       "      <th>4</th>\n",
       "      <td>850</td>\n",
       "      <td>43</td>\n",
       "      <td>2</td>\n",
       "      <td>125510.82</td>\n",
       "      <td>1</td>\n",
       "      <td>1</td>\n",
       "      <td>1</td>\n",
       "      <td>79084.10</td>\n",
       "      <td>0</td>\n",
       "      <td>0</td>\n",
       "      <td>1</td>\n",
       "      <td>0</td>\n",
       "    </tr>\n",
       "    <tr>\n",
       "      <th>...</th>\n",
       "      <td>...</td>\n",
       "      <td>...</td>\n",
       "      <td>...</td>\n",
       "      <td>...</td>\n",
       "      <td>...</td>\n",
       "      <td>...</td>\n",
       "      <td>...</td>\n",
       "      <td>...</td>\n",
       "      <td>...</td>\n",
       "      <td>...</td>\n",
       "      <td>...</td>\n",
       "      <td>...</td>\n",
       "    </tr>\n",
       "    <tr>\n",
       "      <th>9995</th>\n",
       "      <td>771</td>\n",
       "      <td>39</td>\n",
       "      <td>5</td>\n",
       "      <td>0.00</td>\n",
       "      <td>2</td>\n",
       "      <td>1</td>\n",
       "      <td>0</td>\n",
       "      <td>96270.64</td>\n",
       "      <td>0</td>\n",
       "      <td>0</td>\n",
       "      <td>0</td>\n",
       "      <td>1</td>\n",
       "    </tr>\n",
       "    <tr>\n",
       "      <th>9996</th>\n",
       "      <td>516</td>\n",
       "      <td>35</td>\n",
       "      <td>10</td>\n",
       "      <td>57369.61</td>\n",
       "      <td>1</td>\n",
       "      <td>1</td>\n",
       "      <td>1</td>\n",
       "      <td>101699.77</td>\n",
       "      <td>0</td>\n",
       "      <td>0</td>\n",
       "      <td>0</td>\n",
       "      <td>1</td>\n",
       "    </tr>\n",
       "    <tr>\n",
       "      <th>9997</th>\n",
       "      <td>709</td>\n",
       "      <td>36</td>\n",
       "      <td>7</td>\n",
       "      <td>0.00</td>\n",
       "      <td>1</td>\n",
       "      <td>0</td>\n",
       "      <td>1</td>\n",
       "      <td>42085.58</td>\n",
       "      <td>1</td>\n",
       "      <td>0</td>\n",
       "      <td>0</td>\n",
       "      <td>0</td>\n",
       "    </tr>\n",
       "    <tr>\n",
       "      <th>9998</th>\n",
       "      <td>772</td>\n",
       "      <td>42</td>\n",
       "      <td>3</td>\n",
       "      <td>75075.31</td>\n",
       "      <td>2</td>\n",
       "      <td>1</td>\n",
       "      <td>0</td>\n",
       "      <td>92888.52</td>\n",
       "      <td>1</td>\n",
       "      <td>1</td>\n",
       "      <td>0</td>\n",
       "      <td>1</td>\n",
       "    </tr>\n",
       "    <tr>\n",
       "      <th>9999</th>\n",
       "      <td>792</td>\n",
       "      <td>28</td>\n",
       "      <td>5</td>\n",
       "      <td>130142.79</td>\n",
       "      <td>1</td>\n",
       "      <td>1</td>\n",
       "      <td>0</td>\n",
       "      <td>38190.78</td>\n",
       "      <td>0</td>\n",
       "      <td>0</td>\n",
       "      <td>0</td>\n",
       "      <td>0</td>\n",
       "    </tr>\n",
       "  </tbody>\n",
       "</table>\n",
       "<p>10000 rows × 12 columns</p>\n",
       "</div>"
      ],
      "text/plain": [
       "      CreditScore  Age  Tenure    Balance  NumOfProducts  HasCrCard  \\\n",
       "0             619   42       2       0.00              1          1   \n",
       "1             608   41       1   83807.86              1          0   \n",
       "2             502   42       8  159660.80              3          1   \n",
       "3             699   39       1       0.00              2          0   \n",
       "4             850   43       2  125510.82              1          1   \n",
       "...           ...  ...     ...        ...            ...        ...   \n",
       "9995          771   39       5       0.00              2          1   \n",
       "9996          516   35      10   57369.61              1          1   \n",
       "9997          709   36       7       0.00              1          0   \n",
       "9998          772   42       3   75075.31              2          1   \n",
       "9999          792   28       5  130142.79              1          1   \n",
       "\n",
       "      IsActiveMember  EstimatedSalary  Exited  Geography_germany  \\\n",
       "0                  1        101348.88       1                  0   \n",
       "1                  1        112542.58       0                  0   \n",
       "2                  0        113931.57       1                  0   \n",
       "3                  0         93826.63       0                  0   \n",
       "4                  1         79084.10       0                  0   \n",
       "...              ...              ...     ...                ...   \n",
       "9995               0         96270.64       0                  0   \n",
       "9996               1        101699.77       0                  0   \n",
       "9997               1         42085.58       1                  0   \n",
       "9998               0         92888.52       1                  1   \n",
       "9999               0         38190.78       0                  0   \n",
       "\n",
       "      Geography_spain  Gender_male  \n",
       "0                   0            0  \n",
       "1                   1            0  \n",
       "2                   0            0  \n",
       "3                   0            0  \n",
       "4                   1            0  \n",
       "...               ...          ...  \n",
       "9995                0            1  \n",
       "9996                0            1  \n",
       "9997                0            0  \n",
       "9998                0            1  \n",
       "9999                0            0  \n",
       "\n",
       "[10000 rows x 12 columns]"
      ]
     },
     "execution_count": 12,
     "metadata": {},
     "output_type": "execute_result"
    }
   ],
   "source": [
    "# Перевод категориальных в дамми признаки\n",
    "# Эту операцию необходимо провести со столбцами Geography и Gender\n",
    "df_ohe = pd.get_dummies(df.drop(['RowNumber', 'CustomerId', 'Surname'] , axis=1), columns=['Geography','Gender'], drop_first=True)\n",
    "df_ohe"
   ]
  },
  {
   "cell_type": "markdown",
   "metadata": {},
   "source": [
    "Количественные признаки будем масштабировать после определения признаков с нормальным распределением и разделения данных на выборки"
   ]
  },
  {
   "cell_type": "markdown",
   "metadata": {},
   "source": [
    "## Исследование задачи"
   ]
  },
  {
   "cell_type": "markdown",
   "metadata": {},
   "source": [
    "Оценим соотношение классов."
   ]
  },
  {
   "cell_type": "code",
   "execution_count": 13,
   "metadata": {},
   "outputs": [
    {
     "data": {
      "image/png": "[encoded data removed]",
      "text/plain": [
       "<Figure size 432x288 with 1 Axes>"
      ]
     },
     "metadata": {
      "needs_background": "light"
     },
     "output_type": "display_data"
    }
   ],
   "source": [
    "df['Exited'].hist(bins=2)\n",
    "plt.title('Exited')\n",
    "plt.xlabel('Значения столбца Exited')\n",
    "plt.ylabel('#')\n",
    "plt.show()"
   ]
  },
  {
   "cell_type": "code",
   "execution_count": 14,
   "metadata": {},
   "outputs": [
    {
     "name": "stdout",
     "output_type": "stream",
     "text": [
      "Значений \"0\" в 3.9091801669121256 больше, чем \"1\"\n"
     ]
    }
   ],
   "source": [
    "rep = df[df['Exited']==0]['Exited'].count()/df[df['Exited']==1]['Exited'].count()\n",
    "print(f'Значений \"0\" в {rep} больше, чем \"1\"')"
   ]
  },
  {
   "cell_type": "markdown",
   "metadata": {},
   "source": [
    "Ушло порядка 20% клиентов, а тех что осталось в 4 раза больше"
   ]
  },
  {
   "cell_type": "markdown",
   "metadata": {},
   "source": [
    "Обучим 3 вида модели без обработки:  \n",
    "1. Разделим данные на тренировочную, валидационную и тестовую выборки\n",
    "2. Проверим модели:\n",
    " - Решающие дерево\n",
    " - Случайный лес\n",
    " - Логистическая регрессия\n",
    "3. Проверим качество f1-метрикой"
   ]
  },
  {
   "cell_type": "code",
   "execution_count": 15,
   "metadata": {
    "scrolled": true
   },
   "outputs": [
    {
     "name": "stdout",
     "output_type": "stream",
     "text": [
      "(6000, 11)\n",
      "(2000, 11)\n",
      "(2000, 11)\n"
     ]
    }
   ],
   "source": [
    "# Разделение на выборки\n",
    "target = df_ohe['Exited']\n",
    "features = df_ohe.drop(['Exited'] , axis=1)\n",
    "\n",
    "features_train, features_valid, target_train, target_valid = train_test_split(features, target, test_size=0.2, random_state=16011999)#Создаю тренировочную и валидационную выборки\n",
    "features_train, features_test, target_train, target_test = train_test_split(features_train, target_train, test_size=0.25, random_state=16011999)#Создаю тестовую выборку\n",
    "print(features_train.shape)\n",
    "print(features_valid.shape)\n",
    "print(features_test.shape)"
   ]
  },
  {
   "cell_type": "code",
   "execution_count": 16,
   "metadata": {},
   "outputs": [],
   "source": [
    "# Масштабируем количественные признаки\n",
    "numeric = ['Balance', 'NumOfProducts', 'EstimatedSalary', 'CreditScore', 'Age', 'Tenure'] # Все количественные признаки\n",
    "scaler = StandardScaler()\n",
    "scaler.fit(features_train[numeric])\n",
    "features_train[numeric] = scaler.transform(features_train[numeric])\n",
    "features_valid[numeric] = scaler.transform(features_valid[numeric])\n",
    "features_test[numeric] = scaler.transform(features_test[numeric])"
   ]
  },
  {
   "cell_type": "code",
   "execution_count": 17,
   "metadata": {},
   "outputs": [
    {
     "name": "stdout",
     "output_type": "stream",
     "text": [
      "Показатель F1: 0.5769230769230769\n",
      "AUC-ROC: 0.8166217764017395\n",
      "Показатель accuracy: 0.846\n",
      "При глубине: 5\n"
     ]
    }
   ],
   "source": [
    "#Обучение решающего дерева\n",
    "best_f1_tree = 0\n",
    "best_accuracy_tree = 0\n",
    "for depth in range(1,30):#Проходим циклом по глубинам от 1 до 30\n",
    "    model_tree = DecisionTreeClassifier(random_state=16011999, max_depth=depth)\n",
    "    model_tree.fit(features_train,target_train)#Обучаем на тренировочных данных\n",
    "    pred_tree = model_tree.predict(features_valid)\n",
    "    accuracy_valid = accuracy_score(target_valid,pred_tree)#Проверяем на валидационных\n",
    "    f1_tree = f1_score(target_valid,pred_tree)\n",
    "    if best_f1_tree < f1_tree:#Условие для сохранения данных по лучшей модели\n",
    "        best_f1_tree = f1_tree\n",
    "        best_accuracy_tree = accuracy_valid\n",
    "        best_depth = depth\n",
    "        best_model_tree = model_tree\n",
    "        probabilities_tree = model_tree.predict_proba(features_valid)[:,1]\n",
    "        auc_roc_tree = roc_auc_score(target_valid, probabilities_tree)\n",
    "        \n",
    "\n",
    "\n",
    "print(f'Показатель F1: {best_f1_tree}')       \n",
    "print(f'AUC-ROC: {auc_roc_tree}')\n",
    "print(f'Показатель accuracy: {best_accuracy_tree}')\n",
    "print(f'При глубине: {best_depth}')"
   ]
  },
  {
   "cell_type": "code",
   "execution_count": 18,
   "metadata": {},
   "outputs": [
    {
     "name": "stdout",
     "output_type": "stream",
     "text": [
      "Показатель F1: 0.575107296137339\n",
      "AUC-ROC: 0.8325145706939647\n",
      "Показатель accuracy: 0.8515\n",
      "При количестве деревьев: 90\n"
     ]
    }
   ],
   "source": [
    "#Обучение случайного леса\n",
    "best_accuracy_forest = 0\n",
    "best_f1_forest = 0\n",
    "for estimator in range(10,210,10):\n",
    "    model_forest = RandomForestClassifier(random_state=16011999, n_estimators=estimator)\n",
    "    model_forest.fit(features_train,target_train)\n",
    "    pred_forest = model_forest.predict(features_valid)\n",
    "    accuracy = accuracy_score(target_valid,pred_forest)\n",
    "    f1_score_forest = f1_score(target_valid, pred_forest)\n",
    "    if best_f1_forest < f1_score_forest:\n",
    "        best_accuracy_forest = accuracy\n",
    "        best_estimator = estimator\n",
    "        best_model_forest = model_forest\n",
    "        best_f1_forest = f1_score_forest\n",
    "        probabilities_forest = model_forest.predict_proba(features_valid)[:,1]\n",
    "        auc_roc_forest = roc_auc_score(target_valid, probabilities_forest)\n",
    "\n",
    "print(f'Показатель F1: {best_f1_forest}')\n",
    "print(f'AUC-ROC: {auc_roc_forest}')\n",
    "print(f'Показатель accuracy: {best_accuracy_forest}')\n",
    "print(f'При количестве деревьев: {best_estimator}')"
   ]
  },
  {
   "cell_type": "code",
   "execution_count": 19,
   "metadata": {
    "scrolled": true
   },
   "outputs": [
    {
     "name": "stdout",
     "output_type": "stream",
     "text": [
      "Показатель accuracy: 0.7985\n",
      "Показатель F1: 0.3111111111111111\n",
      "AUC-ROC: 0.7506383067571034\n"
     ]
    }
   ],
   "source": [
    "#Обучение логистической регрессии\n",
    "model_log = LogisticRegression(random_state=16011999)\n",
    "model_log.fit(features_train, target_train)\n",
    "pred_log = model_log.predict(features_valid)\n",
    "accuracy_log = accuracy_score(target_valid, pred_log)\n",
    "f1_log = f1_score(target_valid, pred_log)\n",
    "probabilities_log = model_log.predict_proba(features_valid)[:,1]\n",
    "auc_roc_log = roc_auc_score(target_valid, probabilities_log)\n",
    "\n",
    "print(f'Показатель accuracy: {accuracy_log}')\n",
    "print(f'Показатель F1: {f1_log}')\n",
    "print(f'AUC-ROC: {auc_roc_log}')"
   ]
  },
  {
   "cell_type": "markdown",
   "metadata": {},
   "source": [
    "**Вывод**"
   ]
  },
  {
   "cell_type": "markdown",
   "metadata": {},
   "source": [
    "На необработанных данных самой эффективной моделью оказался \"Случайный лес\".  \n",
    "Он показал самый высокие показатели метрик качества: accuracy и f1_score"
   ]
  },
  {
   "cell_type": "markdown",
   "metadata": {},
   "source": [
    "## Борьба с дисбалансом"
   ]
  },
  {
   "cell_type": "markdown",
   "metadata": {},
   "source": [
    "В данном блоке избавимся от дисбаланса и взглянем на изменение f1-метрики и AUC-ROC"
   ]
  },
  {
   "cell_type": "markdown",
   "metadata": {},
   "source": [
    "Существуют несколько способов борьбы с дисбалансом:\n",
    "- Строить модель учитывая вес каждого класса\n",
    "- Upsampling (увеличить количество меньшего класса)\n",
    "- Downsampling (уменьшить количество большего класса)"
   ]
  },
  {
   "cell_type": "markdown",
   "metadata": {},
   "source": [
    "Так как самой эффективной моделью был \"Случайны лес\", то его мы и будем использовать с теми параметрами, которые показали максимальное значение accuracy и f1_score"
   ]
  },
  {
   "cell_type": "markdown",
   "metadata": {},
   "source": [
    "### Случайный лес"
   ]
  },
  {
   "cell_type": "code",
   "execution_count": 20,
   "metadata": {},
   "outputs": [
    {
     "name": "stdout",
     "output_type": "stream",
     "text": [
      "Взвешивание классов\n",
      "Показатель F1: 0.563049853372434\n",
      "AUC-ROC: 0.8325854108130356\n",
      "Показатель accuracy: 0.851\n",
      "При количестве деревьев: 100\n"
     ]
    }
   ],
   "source": [
    "#Взвешивание классов\n",
    "best_accuracy_weight = 0\n",
    "best_f1_weight = 0\n",
    "for estimator in range(10,210,10):\n",
    "    model_weight_forest = RandomForestClassifier(random_state=16011999, n_estimators=estimator, class_weight='balanced')\n",
    "    model_weight_forest.fit(features_train,target_train)\n",
    "    pred_forest = model_weight_forest.predict(features_valid)\n",
    "    accuracy = accuracy_score(target_valid,pred_forest)\n",
    "    f1_score_weight = f1_score(target_valid, pred_forest)\n",
    "    if best_f1_weight < f1_score_weight:\n",
    "        best_accuracy_weight = accuracy\n",
    "        best_estimator_weight = estimator\n",
    "        best_model_weight = model_weight_forest\n",
    "        best_f1_weight = f1_score_weight\n",
    "        probabilities_weight = model_weight_forest.predict_proba(features_valid)[:,1]\n",
    "        auc_roc_weight = roc_auc_score(target_valid, probabilities_weight)\n",
    "\n",
    "print('Взвешивание классов')        \n",
    "print(f'Показатель F1: {best_f1_weight}')\n",
    "print(f'AUC-ROC: {auc_roc_weight}')\n",
    "print(f'Показатель accuracy: {best_accuracy_weight}')\n",
    "print(f'При количестве деревьев: {best_estimator_weight}')"
   ]
  },
  {
   "cell_type": "code",
   "execution_count": 21,
   "metadata": {},
   "outputs": [],
   "source": [
    "#Upsampling\n",
    "def upsample(features, target, repeat):\n",
    "\n",
    "    features_zeros = features[target == 0]\n",
    "    features_ones = features[target == 1]\n",
    "    target_zeros = target[target == 0]\n",
    "    target_ones = target[target == 1]\n",
    "    features_upsampled = pd.concat([features_zeros] + [features_ones] * repeat)\n",
    "    target_upsampled = pd.concat([target_zeros] + [target_ones] * repeat)\n",
    "    features_upsampled, target_upsampled = shuffle(features_upsampled, target_upsampled, random_state=12345)\n",
    "    return features_upsampled, target_upsampled\n",
    "\n",
    "features_upsample, target_upsample = upsample(features_train, target_train, 4)"
   ]
  },
  {
   "cell_type": "code",
   "execution_count": 22,
   "metadata": {},
   "outputs": [
    {
     "name": "stdout",
     "output_type": "stream",
     "text": [
      "При увеличении меньшего класса в 4 раза\n",
      "Показатель F1: 0.6112224448897795\n",
      "AUC-ROC: 0.8437684557152317\n",
      "Показатель accuracy: 0.806\n",
      "При количестве деревьев: 50\n",
      "При глубине:9\n"
     ]
    }
   ],
   "source": [
    "best_accuracy_upsample = 0\n",
    "best_f1_upsample = 0\n",
    "for estimator in range(10,210,10):\n",
    "    for depth in range(1,11,2):\n",
    "        model_upsample_forest = RandomForestClassifier(random_state=16011999, n_estimators=estimator, max_depth=depth)\n",
    "        model_upsample_forest.fit(features_upsample, target_upsample)\n",
    "        pred_upsample = model_upsample_forest.predict(features_valid)\n",
    "        accuracy = accuracy_score(target_valid,pred_upsample)\n",
    "        f1_score_upsample = f1_score(target_valid, pred_upsample)\n",
    "        if best_f1_upsample < f1_score_upsample:\n",
    "            best_accuracy_upsample = accuracy\n",
    "            best_estimator_upsample = estimator\n",
    "            best_depth = depth\n",
    "            best_model_upsample = model_upsample_forest\n",
    "            best_f1_upsample = f1_score_upsample\n",
    "            probabilities_upsample = model_upsample_forest.predict_proba(features_valid)[:,1]\n",
    "            auc_roc_upsample = roc_auc_score(target_valid, probabilities_upsample)\n",
    "\n",
    "print('При увеличении меньшего класса в 4 раза')        \n",
    "print(f'Показатель F1: {best_f1_upsample}')\n",
    "print(f'AUC-ROC: {auc_roc_upsample}')\n",
    "print(f'Показатель accuracy: {best_accuracy_upsample}')\n",
    "print(f'При количестве деревьев: {best_estimator_upsample}')\n",
    "print(f'При глубине:{best_depth}')"
   ]
  },
  {
   "cell_type": "code",
   "execution_count": 23,
   "metadata": {},
   "outputs": [],
   "source": [
    "#Downsampling\n",
    "#Возьмем 40% от большего класса, чтобы уравнять их\n",
    "def downsample(features, target, fraction):\n",
    "    features_zeros = features[target == 0]\n",
    "    features_ones = features[target == 1]\n",
    "    target_zeros = target[target == 0]\n",
    "    target_ones = target[target == 1]\n",
    "\n",
    "    features_downsampled = pd.concat([features_zeros.sample(frac=fraction, random_state=12345)]+[features_ones])\n",
    "    target_downsampled = pd.concat([target_zeros.sample(frac=fraction, random_state=12345)]+[target_ones])\n",
    "    features_downsampled, target_downsampled = shuffle(features_downsampled, target_downsampled, random_state=12345)\n",
    "    return features_downsampled, target_downsampled\n",
    "features_downsample, target_downsample = downsample(features_train, target_train, 0.25)"
   ]
  },
  {
   "cell_type": "code",
   "execution_count": 24,
   "metadata": {},
   "outputs": [
    {
     "name": "stdout",
     "output_type": "stream",
     "text": [
      "При уменьшении большего класса в 4 раза\n",
      "Показатель F1: 0.5866916588566072\n",
      "AUC-ROC: 0.8381870000178963\n",
      "Показатель accuracy: 0.7795\n",
      "При количестве деревьев: 120\n"
     ]
    }
   ],
   "source": [
    "best_accuracy_downsample = 0\n",
    "best_f1_downsample = 0\n",
    "for estimator in range(10,210,10):\n",
    "    model_downsample_forest = RandomForestClassifier(random_state=16011999, n_estimators=estimator)\n",
    "    model_downsample_forest.fit(features_downsample, target_downsample)\n",
    "    pred_downsample = model_downsample_forest.predict(features_valid)\n",
    "    accuracy = accuracy_score(target_valid,pred_downsample)\n",
    "    f1_score_downsample = f1_score(target_valid, pred_downsample)\n",
    "    if best_f1_downsample < f1_score_downsample:\n",
    "        best_accuracy_downsample = accuracy\n",
    "        best_estimator_downsample = estimator\n",
    "        best_model_downsample = model_downsample_forest\n",
    "        best_f1_downsample = f1_score_downsample\n",
    "        probabilities_downsample = model_downsample_forest.predict_proba(features_valid)[:,1]\n",
    "        auc_roc_downsample = roc_auc_score(target_valid, probabilities_downsample)\n",
    "\n",
    "print('При уменьшении большего класса в 4 раза')        \n",
    "print(f'Показатель F1: {best_f1_downsample}')\n",
    "print(f'AUC-ROC: {auc_roc_downsample}')\n",
    "print(f'Показатель accuracy: {best_accuracy_downsample}')\n",
    "print(f'При количестве деревьев: {best_estimator_downsample}')"
   ]
  },
  {
   "cell_type": "markdown",
   "metadata": {},
   "source": [
    "### Решающее дерево"
   ]
  },
  {
   "cell_type": "code",
   "execution_count": 25,
   "metadata": {},
   "outputs": [
    {
     "name": "stdout",
     "output_type": "stream",
     "text": [
      "Показатель F1: 0.5641921397379913\n",
      "AUC-ROC: 0.8214001288544482\n",
      "Показатель accuracy: 0.7505\n",
      "При глубине: 6\n"
     ]
    }
   ],
   "source": [
    "# Взвешивание классов\n",
    "best_f1_tree_weight = 0\n",
    "best_accuracy_tree_weight = 0\n",
    "for depth in range(1,30):#Проходим циклом по глубинам от 1 до 30\n",
    "    model_weight_tree = DecisionTreeClassifier(random_state=16011999, max_depth=depth, class_weight='balanced')\n",
    "    model_weight_tree.fit(features_train,target_train)#Обучаем на тренировочных данных\n",
    "    pred_tree = model_weight_tree.predict(features_valid)\n",
    "    accuracy_valid = accuracy_score(target_valid,pred_tree)#Проверяем на валидационных\n",
    "    f1_tree_weight = f1_score(target_valid,pred_tree)\n",
    "    if best_f1_tree_weight < f1_tree_weight:#Условие для сохранения данных по лучшей модели\n",
    "        best_f1_tree_weight = f1_tree_weight\n",
    "        best_accuracy_tree_weight = accuracy_valid\n",
    "        best_depth_weight = depth\n",
    "        best_model_tree_weight = model_weight_tree\n",
    "        probabilities_tree_weight = model_weight_tree.predict_proba(features_valid)[:,1]\n",
    "        auc_roc_tree_weight = roc_auc_score(target_valid, probabilities_tree_weight)\n",
    "        \n",
    "\n",
    "\n",
    "print(f'Показатель F1: {best_f1_tree_weight}')       \n",
    "print(f'AUC-ROC: {auc_roc_tree_weight}')\n",
    "print(f'Показатель accuracy: {best_accuracy_tree_weight}')\n",
    "print(f'При глубине: {best_depth_weight}')"
   ]
  },
  {
   "cell_type": "code",
   "execution_count": 26,
   "metadata": {
    "scrolled": true
   },
   "outputs": [
    {
     "name": "stdout",
     "output_type": "stream",
     "text": [
      "Показатель F1: 0.5641921397379913\n",
      "AUC-ROC: 0.8214001288544482\n",
      "Показатель accuracy: 0.7505\n",
      "При глубине: 6\n"
     ]
    }
   ],
   "source": [
    "#Upsample\n",
    "best_f1_tree_upsample = 0\n",
    "best_accuracy_tree_upsample = 0\n",
    "for depth in range(1,30):\n",
    "    model_upsample_tree = DecisionTreeClassifier(random_state=16011999, max_depth=depth)\n",
    "    model_upsample_tree.fit(features_upsample,target_upsample)\n",
    "    pred_tree = model_upsample_tree.predict(features_valid)\n",
    "    accuracy_valid = accuracy_score(target_valid,pred_tree)\n",
    "    f1_tree_upsample = f1_score(target_valid,pred_tree)\n",
    "    if best_f1_tree_upsample < f1_tree_upsample:\n",
    "        best_f1_tree_upsample = f1_tree_upsample\n",
    "        best_accuracy_tree_upsample = accuracy_valid\n",
    "        best_depth_upsample = depth\n",
    "        best_model_tree_upsample = model_upsample_tree\n",
    "        probabilities_tree_upsample = model_upsample_tree.predict_proba(features_valid)[:,1]\n",
    "        auc_roc_tree_upsample = roc_auc_score(target_valid, probabilities_tree_upsample)\n",
    "        \n",
    "print(f'Показатель F1: {best_f1_tree_upsample}')       \n",
    "print(f'AUC-ROC: {auc_roc_tree_upsample}')\n",
    "print(f'Показатель accuracy: {best_accuracy_tree_upsample}')\n",
    "print(f'При глубине: {best_depth_upsample}')"
   ]
  },
  {
   "cell_type": "code",
   "execution_count": 27,
   "metadata": {},
   "outputs": [
    {
     "name": "stdout",
     "output_type": "stream",
     "text": [
      "Показатель F1: 0.5591200733272227\n",
      "AUC-ROC: 0.7897785910720572\n",
      "Показатель accuracy: 0.7595\n",
      "При глубине: 8\n"
     ]
    }
   ],
   "source": [
    "#Downsample\n",
    "best_f1_tree_downsample = 0\n",
    "best_accuracy_tree_downsample = 0\n",
    "for depth in range(1,30):\n",
    "    model_downsample_tree = DecisionTreeClassifier(random_state=16011999, max_depth=depth)\n",
    "    model_downsample_tree.fit(features_downsample,target_downsample)\n",
    "    pred_tree = model_downsample_tree.predict(features_valid)\n",
    "    accuracy_valid = accuracy_score(target_valid,pred_tree)\n",
    "    f1_tree_downsample = f1_score(target_valid,pred_tree)\n",
    "    if best_f1_tree_downsample < f1_tree_downsample:\n",
    "        best_f1_tree_downsample = f1_tree_downsample\n",
    "        best_accuracy_tree_downsample = accuracy_valid\n",
    "        best_depth_downsample = depth\n",
    "        best_model_tree_downsample = model_downsample_tree\n",
    "        probabilities_tree_downsample = model_downsample_tree.predict_proba(features_valid)[:,1]\n",
    "        auc_roc_tree_downsample = roc_auc_score(target_valid, probabilities_tree_downsample)\n",
    "        \n",
    "print(f'Показатель F1: {best_f1_tree_downsample}')       \n",
    "print(f'AUC-ROC: {auc_roc_tree_downsample}')\n",
    "print(f'Показатель accuracy: {best_accuracy_tree_downsample}')\n",
    "print(f'При глубине: {best_depth_downsample}')"
   ]
  },
  {
   "cell_type": "markdown",
   "metadata": {},
   "source": [
    "### Логистическая регрессия"
   ]
  },
  {
   "cell_type": "code",
   "execution_count": 28,
   "metadata": {},
   "outputs": [
    {
     "name": "stdout",
     "output_type": "stream",
     "text": [
      "Показатель accuracy: 0.696\n",
      "Показатель F1: 0.4873524451939291\n",
      "AUC-ROC: 0.7506383067571034\n"
     ]
    }
   ],
   "source": [
    "# Взвешевание классов\n",
    "model_log_weight = LogisticRegression(random_state=16011999, class_weight='balanced')\n",
    "model_log_weight.fit(features_train, target_train)\n",
    "pred_log = model_log_weight.predict(features_valid)\n",
    "accuracy_log_weight = accuracy_score(target_valid, pred_log)\n",
    "f1_log_weight = f1_score(target_valid, pred_log)\n",
    "probabilities_log_weight = model_log.predict_proba(features_valid)[:,1]\n",
    "auc_roc_log_weight = roc_auc_score(target_valid, probabilities_log)\n",
    "\n",
    "print(f'Показатель accuracy: {accuracy_log_weight}')\n",
    "print(f'Показатель F1: {f1_log_weight}')\n",
    "print(f'AUC-ROC: {auc_roc_log_weight}')"
   ]
  },
  {
   "cell_type": "code",
   "execution_count": 29,
   "metadata": {},
   "outputs": [
    {
     "name": "stdout",
     "output_type": "stream",
     "text": [
      "Показатель accuracy: 0.6965\n",
      "Показатель F1: 0.48776371308016875\n",
      "AUC-ROC: 0.7537329014323126\n"
     ]
    }
   ],
   "source": [
    "# Upsample\n",
    "model_log_upsample = LogisticRegression(random_state=16011999)\n",
    "model_log_upsample.fit(features_upsample, target_upsample)\n",
    "pred_log_upsample = model_log_upsample.predict(features_valid)\n",
    "accuracy_log_upsample = accuracy_score(target_valid, pred_log_upsample)\n",
    "f1_log_upsample = f1_score(target_valid, pred_log_upsample)\n",
    "probabilities_log_upsample = model_log_upsample.predict_proba(features_valid)[:,1]\n",
    "auc_roc_log_upsample = roc_auc_score(target_valid, probabilities_log_upsample)\n",
    "\n",
    "print(f'Показатель accuracy: {accuracy_log_upsample}')\n",
    "print(f'Показатель F1: {f1_log_upsample}')\n",
    "print(f'AUC-ROC: {auc_roc_log_upsample}')"
   ]
  },
  {
   "cell_type": "code",
   "execution_count": 30,
   "metadata": {},
   "outputs": [
    {
     "name": "stdout",
     "output_type": "stream",
     "text": [
      "Показатель accuracy: 0.6955\n",
      "Показатель F1: 0.485207100591716\n",
      "AUC-ROC: 0.753167671850672\n"
     ]
    }
   ],
   "source": [
    "# Downsample\n",
    "model_log_downsample = LogisticRegression(random_state=16011999)\n",
    "model_log_downsample.fit(features_downsample, target_downsample)\n",
    "pred_log_downsample = model_log_downsample.predict(features_valid)\n",
    "accuracy_log_downsample = accuracy_score(target_valid, pred_log_downsample)\n",
    "f1_log_downsample = f1_score(target_valid, pred_log_downsample)\n",
    "probabilities_log_downsample = model_log_downsample.predict_proba(features_valid)[:,1]\n",
    "auc_roc_log_downsample = roc_auc_score(target_valid, probabilities_log_downsample)\n",
    "\n",
    "print(f'Показатель accuracy: {accuracy_log_downsample}')\n",
    "print(f'Показатель F1: {f1_log_downsample}')\n",
    "print(f'AUC-ROC: {auc_roc_log_downsample}')"
   ]
  },
  {
   "cell_type": "markdown",
   "metadata": {},
   "source": [
    "**Вывод**"
   ]
  },
  {
   "cell_type": "markdown",
   "metadata": {},
   "source": [
    "Из всех моделей и способов борьбы с дисбалансом самая эффективная оказался \"Случайный лес\" с количеством деревьев 200; со способом борьбы с дисбалансом - увеличение количества меньшего класса."
   ]
  },
  {
   "cell_type": "markdown",
   "metadata": {},
   "source": [
    "## Тестирование модели"
   ]
  },
  {
   "cell_type": "markdown",
   "metadata": {},
   "source": [
    "Тестирование будет происходить в несколько этапов:\n",
    "1. Найдем метрику f1 для тестовой выборки\n",
    "2. Построим кривую ROC\n",
    "3. Найдем значение AUC-ROC"
   ]
  },
  {
   "cell_type": "code",
   "execution_count": 31,
   "metadata": {
    "scrolled": true
   },
   "outputs": [
    {
     "name": "stdout",
     "output_type": "stream",
     "text": [
      "f1 для тестовой выборки: 0.6102783725910064\n"
     ]
    }
   ],
   "source": [
    "#Значение f1 для тестовой выбрки\n",
    "pred_test = model_upsample_forest.predict(features_test)\n",
    "f1_test = f1_score(target_test, pred_test)\n",
    "print(f'f1 для тестовой выборки: {f1_test}')"
   ]
  },
  {
   "cell_type": "code",
   "execution_count": 32,
   "metadata": {},
   "outputs": [
    {
     "data": {
      "image/png": "[encoded data removed]",
      "text/plain": [
       "<Figure size 432x288 with 1 Axes>"
      ]
     },
     "metadata": {
      "needs_background": "light"
     },
     "output_type": "display_data"
    }
   ],
   "source": [
    "probabilities_test = model_upsample_forest.predict_proba(features_test)\n",
    "probabilities_one_test = probabilities_test[:, 1]\n",
    "\n",
    "fpr, tpr, thresholds = roc_curve(target_test, probabilities_one_test)\n",
    "\n",
    "plt.figure()\n",
    "plt.plot(fpr, tpr)\n",
    "plt.xlim([0.0,1.0])\n",
    "plt.ylim([0.0, 1.0])\n",
    "plt.xlabel('False Positive Rate')\n",
    "plt.ylabel('True Positive Rate')\n",
    "plt.title('ROC-кривая')\n",
    "plt.show() "
   ]
  },
  {
   "cell_type": "code",
   "execution_count": 33,
   "metadata": {
    "scrolled": true
   },
   "outputs": [
    {
     "name": "stdout",
     "output_type": "stream",
     "text": [
      "AUC-ROC для тестовой выборки: 0.8608655983619939\n"
     ]
    }
   ],
   "source": [
    "auc_roc = roc_auc_score(target_test, probabilities_one_test)\n",
    "print(f'AUC-ROC для тестовой выборки: {auc_roc}')"
   ]
  },
  {
   "cell_type": "markdown",
   "metadata": {},
   "source": [
    "Построим для сравнения ROC-кривые для остальных моделей"
   ]
  },
  {
   "cell_type": "code",
   "execution_count": 34,
   "metadata": {},
   "outputs": [
    {
     "data": {
      "text/plain": [
       "sklearn.linear_model._logistic.LogisticRegression"
      ]
     },
     "execution_count": 34,
     "metadata": {},
     "output_type": "execute_result"
    }
   ],
   "source": [
    "type(model_log_upsample)"
   ]
  },
  {
   "cell_type": "code",
   "execution_count": 35,
   "metadata": {},
   "outputs": [
    {
     "name": "stdout",
     "output_type": "stream",
     "text": [
      "log_model\n"
     ]
    },
    {
     "data": {
      "image/png": "[encoded data removed]",
      "text/plain": [
       "<Figure size 432x288 with 1 Axes>"
      ]
     },
     "metadata": {
      "needs_background": "light"
     },
     "output_type": "display_data"
    }
   ],
   "source": [
    "print('log_model')\n",
    "probabilities_test = model_log_upsample.predict_proba(features_test)\n",
    "probabilities_one_test = probabilities_test[:, 1]\n",
    "\n",
    "fpr, tpr, thresholds = roc_curve(target_test, probabilities_one_test)\n",
    "\n",
    "plt.figure()\n",
    "plt.plot(fpr, tpr)\n",
    "plt.xlim([0.0,1.0])\n",
    "plt.ylim([0.0, 1.0])\n",
    "plt.xlabel('False Positive Rate')\n",
    "plt.ylabel('True Positive Rate')\n",
    "plt.title('ROC-кривая')\n",
    "plt.show() "
   ]
  },
  {
   "cell_type": "code",
   "execution_count": 37,
   "metadata": {},
   "outputs": [
    {
     "name": "stdout",
     "output_type": "stream",
     "text": [
      "model_tree\n"
     ]
    },
    {
     "data": {
      "image/png": "[encoded data removed]",
      "text/plain": [
       "<Figure size 432x288 with 1 Axes>"
      ]
     },
     "metadata": {
      "needs_background": "light"
     },
     "output_type": "display_data"
    }
   ],
   "source": [
    "print('model_tree')\n",
    "probabilities_test = best_model_tree_upsample.predict_proba(features_test)\n",
    "probabilities_one_test = probabilities_test[:, 1]\n",
    "\n",
    "fpr, tpr, thresholds = roc_curve(target_test, probabilities_one_test)\n",
    "\n",
    "plt.figure()\n",
    "plt.plot(fpr, tpr)\n",
    "plt.xlim([0.0,1.0])\n",
    "plt.ylim([0.0, 1.0])\n",
    "plt.xlabel('False Positive Rate')\n",
    "plt.ylabel('True Positive Rate')\n",
    "plt.title('ROC-кривая')\n",
    "plt.show() "
   ]
  },
  {
   "cell_type": "markdown",
   "metadata": {},
   "source": [
    "## **Вывод**"
   ]
  },
  {
   "cell_type": "markdown",
   "metadata": {},
   "source": [
    "1. Подготовили данные:\n",
    " - заполнили пропуски\n",
    " - изменили тип данных\n",
    " - перевели категориальные признаки в дамми\n",
    " - масштабировали количественные признаки\n",
    "2. Обучили модели до работы с дисбалансом классов. Определили, что самая эффективная в нашем случае \"Случайный лес\"\n",
    "3. Провели работу с дисбалансом с помощью нескольких способов. Определили, что самый эффективный способ это увеличение выборки меньшего класса\n",
    "4. Получили значение f1 выше 0.59\n",
    "5. Построили кривую ROC и нашли значение AUC-ROC, которое равно 0.858. Оно не идеально, но явно больше, чем у случайной модели"
   ]
  },
  {
   "cell_type": "markdown",
   "metadata": {},
   "source": [
    "## Чек-лист готовности проекта"
   ]
  },
  {
   "cell_type": "markdown",
   "metadata": {},
   "source": [
    "Поставьте 'x' в выполненных пунктах. Далее нажмите Shift+Enter."
   ]
  },
  {
   "cell_type": "markdown",
   "metadata": {},
   "source": [
    "- [x]  Jupyter Notebook открыт\n",
    "- [x]  Весь код выполняется без ошибок\n",
    "- [x]  Ячейки с кодом расположены в порядке исполнения\n",
    "- [x]  Выполнен шаг 1: данные подготовлены\n",
    "- [x]  Выполнен шаг 2: задача исследована\n",
    "    - [x]  Исследован баланс классов\n",
    "    - [x]  Изучены модели без учёта дисбаланса\n",
    "    - [x]  Написаны выводы по результатам исследования\n",
    "- [x]  Выполнен шаг 3: учтён дисбаланс\n",
    "    - [x]  Применено несколько способов борьбы с дисбалансом\n",
    "    - [x]  Написаны выводы по результатам исследования\n",
    "- [x]  Выполнен шаг 4: проведено тестирование\n",
    "- [x]  Удалось достичь *F1*-меры не менее 0.59\n",
    "- [x]  Исследована метрика *AUC-ROC*"
   ]
  }
 ],
 "metadata": {
  "ExecuteTimeLog": [
   {
    "duration": 251,
    "start_time": "2022-03-07T10:27:14.236Z"
   },
   {
    "duration": 980,
    "start_time": "2022-03-07T10:27:18.555Z"
   },
   {
    "duration": 94,
    "start_time": "2022-03-07T10:27:19.537Z"
   },
   {
    "duration": 5,
    "start_time": "2022-03-07T10:43:11.017Z"
   },
   {
    "duration": 5,
    "start_time": "2022-03-07T10:48:05.227Z"
   },
   {
    "duration": 18,
    "start_time": "2022-03-07T10:51:37.797Z"
   },
   {
    "duration": 9,
    "start_time": "2022-03-07T10:57:00.139Z"
   },
   {
    "duration": 271,
    "start_time": "2022-03-07T10:59:20.462Z"
   },
   {
    "duration": 217,
    "start_time": "2022-03-07T10:59:25.607Z"
   },
   {
    "duration": 6,
    "start_time": "2022-03-07T10:59:31.142Z"
   },
   {
    "duration": 1021,
    "start_time": "2022-03-07T10:59:37.493Z"
   },
   {
    "duration": 97,
    "start_time": "2022-03-07T10:59:38.516Z"
   },
   {
    "duration": 5,
    "start_time": "2022-03-07T10:59:38.614Z"
   },
   {
    "duration": 9,
    "start_time": "2022-03-07T10:59:38.621Z"
   },
   {
    "duration": 17,
    "start_time": "2022-03-07T10:59:38.632Z"
   },
   {
    "duration": 30,
    "start_time": "2022-03-07T10:59:38.650Z"
   },
   {
    "duration": 227,
    "start_time": "2022-03-10T08:40:02.819Z"
   },
   {
    "duration": 955,
    "start_time": "2022-03-10T08:40:07.663Z"
   },
   {
    "duration": 94,
    "start_time": "2022-03-10T08:40:08.620Z"
   },
   {
    "duration": 5,
    "start_time": "2022-03-10T08:40:08.716Z"
   },
   {
    "duration": 12,
    "start_time": "2022-03-10T08:40:08.723Z"
   },
   {
    "duration": 17,
    "start_time": "2022-03-10T08:40:08.737Z"
   },
   {
    "duration": 267,
    "start_time": "2022-03-10T08:40:08.763Z"
   },
   {
    "duration": 150,
    "start_time": "2022-03-10T08:40:08.881Z"
   },
   {
    "duration": 11,
    "start_time": "2022-03-10T08:42:51.846Z"
   },
   {
    "duration": 23,
    "start_time": "2022-03-10T08:53:37.433Z"
   },
   {
    "duration": 7,
    "start_time": "2022-03-10T08:53:38.494Z"
   },
   {
    "duration": 58,
    "start_time": "2022-03-10T09:04:13.801Z"
   },
   {
    "duration": 969,
    "start_time": "2022-03-10T09:07:33.148Z"
   },
   {
    "duration": 91,
    "start_time": "2022-03-10T09:07:34.119Z"
   },
   {
    "duration": 5,
    "start_time": "2022-03-10T09:07:34.213Z"
   },
   {
    "duration": 16,
    "start_time": "2022-03-10T09:07:34.220Z"
   },
   {
    "duration": 27,
    "start_time": "2022-03-10T09:07:34.237Z"
   },
   {
    "duration": 286,
    "start_time": "2022-03-10T09:07:34.265Z"
   },
   {
    "duration": 94,
    "start_time": "2022-03-10T09:07:34.459Z"
   },
   {
    "duration": 92,
    "start_time": "2022-03-10T09:07:34.461Z"
   },
   {
    "duration": 92,
    "start_time": "2022-03-10T09:07:34.463Z"
   },
   {
    "duration": 30,
    "start_time": "2022-03-10T09:08:52.316Z"
   },
   {
    "duration": 981,
    "start_time": "2022-03-10T09:09:02.540Z"
   },
   {
    "duration": 92,
    "start_time": "2022-03-10T09:09:03.523Z"
   },
   {
    "duration": 5,
    "start_time": "2022-03-10T09:09:03.617Z"
   },
   {
    "duration": 10,
    "start_time": "2022-03-10T09:09:03.624Z"
   },
   {
    "duration": 37,
    "start_time": "2022-03-10T09:09:03.635Z"
   },
   {
    "duration": 23,
    "start_time": "2022-03-10T09:09:03.673Z"
   },
   {
    "duration": 7,
    "start_time": "2022-03-10T09:09:03.697Z"
   },
   {
    "duration": 60,
    "start_time": "2022-03-10T09:09:03.705Z"
   },
   {
    "duration": 2,
    "start_time": "2022-03-10T09:09:03.768Z"
   },
   {
    "duration": 298,
    "start_time": "2022-03-10T09:12:22.944Z"
   },
   {
    "duration": 189,
    "start_time": "2022-03-10T09:12:34.175Z"
   },
   {
    "duration": 186,
    "start_time": "2022-03-10T09:15:58.563Z"
   },
   {
    "duration": 5,
    "start_time": "2022-03-10T09:24:21.835Z"
   },
   {
    "duration": 22,
    "start_time": "2022-03-10T09:24:34.303Z"
   },
   {
    "duration": 7,
    "start_time": "2022-03-10T09:26:23.403Z"
   },
   {
    "duration": 4,
    "start_time": "2022-03-10T09:26:43.090Z"
   },
   {
    "duration": 1052,
    "start_time": "2022-03-10T09:26:49.068Z"
   },
   {
    "duration": 102,
    "start_time": "2022-03-10T09:26:50.122Z"
   },
   {
    "duration": 6,
    "start_time": "2022-03-10T09:26:50.227Z"
   },
   {
    "duration": 11,
    "start_time": "2022-03-10T09:26:50.235Z"
   },
   {
    "duration": 27,
    "start_time": "2022-03-10T09:26:50.264Z"
   },
   {
    "duration": 31,
    "start_time": "2022-03-10T09:26:50.294Z"
   },
   {
    "duration": 7,
    "start_time": "2022-03-10T09:26:50.327Z"
   },
   {
    "duration": 65,
    "start_time": "2022-03-10T09:26:50.335Z"
   },
   {
    "duration": 21,
    "start_time": "2022-03-10T09:26:50.402Z"
   },
   {
    "duration": 5,
    "start_time": "2022-03-10T09:26:50.425Z"
   },
   {
    "duration": 5,
    "start_time": "2022-03-10T09:26:50.432Z"
   },
   {
    "duration": 17,
    "start_time": "2022-03-10T09:35:08.312Z"
   },
   {
    "duration": 9,
    "start_time": "2022-03-10T09:35:31.615Z"
   },
   {
    "duration": 9,
    "start_time": "2022-03-10T09:35:52.071Z"
   },
   {
    "duration": 7,
    "start_time": "2022-03-10T09:36:07.142Z"
   },
   {
    "duration": 1060,
    "start_time": "2022-03-10T09:51:49.343Z"
   },
   {
    "duration": 44,
    "start_time": "2022-03-10T09:51:50.405Z"
   },
   {
    "duration": 5,
    "start_time": "2022-03-10T09:51:50.451Z"
   },
   {
    "duration": 10,
    "start_time": "2022-03-10T09:51:50.458Z"
   },
   {
    "duration": 17,
    "start_time": "2022-03-10T09:51:50.470Z"
   },
   {
    "duration": 24,
    "start_time": "2022-03-10T09:51:50.488Z"
   },
   {
    "duration": 7,
    "start_time": "2022-03-10T09:51:50.514Z"
   },
   {
    "duration": 68,
    "start_time": "2022-03-10T09:51:50.523Z"
   },
   {
    "duration": 21,
    "start_time": "2022-03-10T09:51:50.593Z"
   },
   {
    "duration": 5,
    "start_time": "2022-03-10T09:51:50.616Z"
   },
   {
    "duration": 5,
    "start_time": "2022-03-10T09:51:50.623Z"
   },
   {
    "duration": 9,
    "start_time": "2022-03-10T09:51:50.629Z"
   },
   {
    "duration": 15,
    "start_time": "2022-03-10T10:02:53.509Z"
   },
   {
    "duration": 1042,
    "start_time": "2022-03-10T10:05:20.163Z"
   },
   {
    "duration": 41,
    "start_time": "2022-03-10T10:05:21.207Z"
   },
   {
    "duration": 4,
    "start_time": "2022-03-10T10:05:21.250Z"
   },
   {
    "duration": 11,
    "start_time": "2022-03-10T10:05:21.256Z"
   },
   {
    "duration": 17,
    "start_time": "2022-03-10T10:05:21.268Z"
   },
   {
    "duration": 23,
    "start_time": "2022-03-10T10:05:21.287Z"
   },
   {
    "duration": 6,
    "start_time": "2022-03-10T10:05:21.311Z"
   },
   {
    "duration": 72,
    "start_time": "2022-03-10T10:05:21.319Z"
   },
   {
    "duration": 19,
    "start_time": "2022-03-10T10:05:21.393Z"
   },
   {
    "duration": 5,
    "start_time": "2022-03-10T10:05:21.413Z"
   },
   {
    "duration": 4,
    "start_time": "2022-03-10T10:05:21.420Z"
   },
   {
    "duration": 14,
    "start_time": "2022-03-10T10:05:21.426Z"
   },
   {
    "duration": 31,
    "start_time": "2022-03-10T10:05:21.442Z"
   },
   {
    "duration": 2,
    "start_time": "2022-03-10T10:05:21.475Z"
   },
   {
    "duration": 278,
    "start_time": "2022-03-10T10:12:43.096Z"
   },
   {
    "duration": 1073,
    "start_time": "2022-03-10T10:15:04.331Z"
   },
   {
    "duration": 38,
    "start_time": "2022-03-10T10:15:05.407Z"
   },
   {
    "duration": 5,
    "start_time": "2022-03-10T10:15:05.448Z"
   },
   {
    "duration": 13,
    "start_time": "2022-03-10T10:15:05.455Z"
   },
   {
    "duration": 16,
    "start_time": "2022-03-10T10:15:05.470Z"
   },
   {
    "duration": 21,
    "start_time": "2022-03-10T10:15:05.488Z"
   },
   {
    "duration": 7,
    "start_time": "2022-03-10T10:15:05.511Z"
   },
   {
    "duration": 74,
    "start_time": "2022-03-10T10:15:05.520Z"
   },
   {
    "duration": 22,
    "start_time": "2022-03-10T10:15:05.596Z"
   },
   {
    "duration": 12,
    "start_time": "2022-03-10T10:15:05.619Z"
   },
   {
    "duration": 8,
    "start_time": "2022-03-10T10:15:05.632Z"
   },
   {
    "duration": 13,
    "start_time": "2022-03-10T10:15:05.642Z"
   },
   {
    "duration": 14,
    "start_time": "2022-03-10T10:15:05.657Z"
   },
   {
    "duration": 304,
    "start_time": "2022-03-10T10:15:05.673Z"
   },
   {
    "duration": 250,
    "start_time": "2022-03-10T10:19:31.261Z"
   },
   {
    "duration": 10,
    "start_time": "2022-03-10T10:20:11.489Z"
   },
   {
    "duration": 207,
    "start_time": "2022-03-10T10:20:14.600Z"
   },
   {
    "duration": 378,
    "start_time": "2022-03-12T10:54:12.195Z"
   },
   {
    "duration": 1440,
    "start_time": "2022-03-12T10:54:17.940Z"
   },
   {
    "duration": 58,
    "start_time": "2022-03-12T10:54:19.384Z"
   },
   {
    "duration": 26,
    "start_time": "2022-03-12T10:54:19.448Z"
   },
   {
    "duration": 9,
    "start_time": "2022-03-12T10:54:19.477Z"
   },
   {
    "duration": 25,
    "start_time": "2022-03-12T10:54:19.489Z"
   },
   {
    "duration": 69,
    "start_time": "2022-03-12T10:54:19.516Z"
   },
   {
    "duration": 11,
    "start_time": "2022-03-12T10:54:19.591Z"
   },
   {
    "duration": 98,
    "start_time": "2022-03-12T10:54:19.606Z"
   },
   {
    "duration": 37,
    "start_time": "2022-03-12T10:54:19.707Z"
   },
   {
    "duration": 30,
    "start_time": "2022-03-12T10:54:19.746Z"
   },
   {
    "duration": 6,
    "start_time": "2022-03-12T10:54:19.779Z"
   },
   {
    "duration": 12,
    "start_time": "2022-03-12T10:54:19.787Z"
   },
   {
    "duration": 16,
    "start_time": "2022-03-12T10:54:19.803Z"
   },
   {
    "duration": 453,
    "start_time": "2022-03-12T10:54:19.821Z"
   },
   {
    "duration": -61,
    "start_time": "2022-03-12T10:54:20.337Z"
   },
   {
    "duration": -60,
    "start_time": "2022-03-12T10:54:20.338Z"
   },
   {
    "duration": 8,
    "start_time": "2022-03-12T10:54:30.592Z"
   },
   {
    "duration": 303,
    "start_time": "2022-03-12T10:58:45.526Z"
   },
   {
    "duration": 32,
    "start_time": "2022-03-12T10:58:56.209Z"
   },
   {
    "duration": 12,
    "start_time": "2022-03-12T10:59:07.456Z"
   },
   {
    "duration": 1544,
    "start_time": "2022-03-12T11:06:48.979Z"
   },
   {
    "duration": 58,
    "start_time": "2022-03-12T11:06:50.526Z"
   },
   {
    "duration": 7,
    "start_time": "2022-03-12T11:06:50.587Z"
   },
   {
    "duration": 12,
    "start_time": "2022-03-12T11:06:50.597Z"
   },
   {
    "duration": 29,
    "start_time": "2022-03-12T11:06:50.612Z"
   },
   {
    "duration": 39,
    "start_time": "2022-03-12T11:06:50.673Z"
   },
   {
    "duration": 11,
    "start_time": "2022-03-12T11:06:50.715Z"
   },
   {
    "duration": 97,
    "start_time": "2022-03-12T11:06:50.731Z"
   },
   {
    "duration": 61,
    "start_time": "2022-03-12T11:06:50.831Z"
   },
   {
    "duration": 12,
    "start_time": "2022-03-12T11:06:50.895Z"
   },
   {
    "duration": 6,
    "start_time": "2022-03-12T11:06:50.910Z"
   },
   {
    "duration": 11,
    "start_time": "2022-03-12T11:06:50.919Z"
   },
   {
    "duration": 80,
    "start_time": "2022-03-12T11:06:50.933Z"
   },
   {
    "duration": 13,
    "start_time": "2022-03-12T11:06:51.016Z"
   },
   {
    "duration": 515,
    "start_time": "2022-03-12T11:06:51.032Z"
   },
   {
    "duration": 323,
    "start_time": "2022-03-12T11:07:28.527Z"
   },
   {
    "duration": 338,
    "start_time": "2022-03-12T11:07:48.024Z"
   },
   {
    "duration": 328,
    "start_time": "2022-03-12T11:08:45.609Z"
   },
   {
    "duration": 428,
    "start_time": "2022-03-12T11:08:51.888Z"
   },
   {
    "duration": 407,
    "start_time": "2022-03-12T11:09:09.180Z"
   },
   {
    "duration": 620,
    "start_time": "2022-03-12T11:09:29.599Z"
   },
   {
    "duration": 4,
    "start_time": "2022-03-16T14:46:45.044Z"
   },
   {
    "duration": 1692,
    "start_time": "2022-03-16T14:48:54.417Z"
   },
   {
    "duration": 181,
    "start_time": "2022-03-16T14:48:56.112Z"
   },
   {
    "duration": 7,
    "start_time": "2022-03-16T14:48:56.296Z"
   },
   {
    "duration": 15,
    "start_time": "2022-03-16T14:48:56.307Z"
   },
   {
    "duration": 38,
    "start_time": "2022-03-16T14:48:56.324Z"
   },
   {
    "duration": 35,
    "start_time": "2022-03-16T14:48:56.364Z"
   },
   {
    "duration": 9,
    "start_time": "2022-03-16T14:48:56.402Z"
   },
   {
    "duration": 86,
    "start_time": "2022-03-16T14:48:56.414Z"
   },
   {
    "duration": 49,
    "start_time": "2022-03-16T14:48:56.504Z"
   },
   {
    "duration": 8,
    "start_time": "2022-03-16T14:48:56.556Z"
   },
   {
    "duration": 6,
    "start_time": "2022-03-16T14:48:56.567Z"
   },
   {
    "duration": 13,
    "start_time": "2022-03-16T14:48:56.576Z"
   },
   {
    "duration": 93,
    "start_time": "2022-03-16T14:48:56.592Z"
   },
   {
    "duration": 34,
    "start_time": "2022-03-16T14:48:56.688Z"
   },
   {
    "duration": 543,
    "start_time": "2022-03-16T14:48:56.724Z"
   },
   {
    "duration": 2,
    "start_time": "2022-03-16T14:48:57.270Z"
   },
   {
    "duration": 11,
    "start_time": "2022-03-16T14:48:57.275Z"
   },
   {
    "duration": 1441,
    "start_time": "2022-03-16T14:49:14.048Z"
   },
   {
    "duration": 62,
    "start_time": "2022-03-16T14:49:15.491Z"
   },
   {
    "duration": 7,
    "start_time": "2022-03-16T14:49:15.556Z"
   },
   {
    "duration": 11,
    "start_time": "2022-03-16T14:49:15.566Z"
   },
   {
    "duration": 24,
    "start_time": "2022-03-16T14:49:15.579Z"
   },
   {
    "duration": 63,
    "start_time": "2022-03-16T14:49:15.605Z"
   },
   {
    "duration": 9,
    "start_time": "2022-03-16T14:49:15.671Z"
   },
   {
    "duration": 87,
    "start_time": "2022-03-16T14:49:15.684Z"
   },
   {
    "duration": 35,
    "start_time": "2022-03-16T14:49:15.773Z"
   },
   {
    "duration": 35,
    "start_time": "2022-03-16T14:49:15.810Z"
   },
   {
    "duration": 5,
    "start_time": "2022-03-16T14:49:15.847Z"
   },
   {
    "duration": 12,
    "start_time": "2022-03-16T14:49:15.855Z"
   },
   {
    "duration": 81,
    "start_time": "2022-03-16T14:49:15.869Z"
   },
   {
    "duration": 21,
    "start_time": "2022-03-16T14:49:15.953Z"
   },
   {
    "duration": 660,
    "start_time": "2022-03-16T14:49:15.977Z"
   },
   {
    "duration": 4,
    "start_time": "2022-03-16T14:49:16.643Z"
   },
   {
    "duration": 6,
    "start_time": "2022-03-16T14:49:16.650Z"
   },
   {
    "duration": 629,
    "start_time": "2022-03-16T14:54:28.137Z"
   },
   {
    "duration": 20999,
    "start_time": "2022-03-16T14:54:45.601Z"
   },
   {
    "duration": 83,
    "start_time": "2022-03-16T14:57:25.170Z"
   },
   {
    "duration": 1589,
    "start_time": "2022-03-16T15:32:09.864Z"
   },
   {
    "duration": 749,
    "start_time": "2022-03-16T15:32:10.708Z"
   },
   {
    "duration": 746,
    "start_time": "2022-03-16T15:32:10.712Z"
   },
   {
    "duration": 744,
    "start_time": "2022-03-16T15:32:10.715Z"
   },
   {
    "duration": 731,
    "start_time": "2022-03-16T15:32:10.730Z"
   },
   {
    "duration": 729,
    "start_time": "2022-03-16T15:32:10.733Z"
   },
   {
    "duration": 729,
    "start_time": "2022-03-16T15:32:10.735Z"
   },
   {
    "duration": 727,
    "start_time": "2022-03-16T15:32:10.738Z"
   },
   {
    "duration": 727,
    "start_time": "2022-03-16T15:32:10.740Z"
   },
   {
    "duration": 724,
    "start_time": "2022-03-16T15:32:10.744Z"
   },
   {
    "duration": 722,
    "start_time": "2022-03-16T15:32:10.747Z"
   },
   {
    "duration": 668,
    "start_time": "2022-03-16T15:32:10.802Z"
   },
   {
    "duration": 758,
    "start_time": "2022-03-16T15:32:10.806Z"
   },
   {
    "duration": 748,
    "start_time": "2022-03-16T15:32:10.817Z"
   },
   {
    "duration": 747,
    "start_time": "2022-03-16T15:32:10.820Z"
   },
   {
    "duration": 745,
    "start_time": "2022-03-16T15:32:10.824Z"
   },
   {
    "duration": 743,
    "start_time": "2022-03-16T15:32:10.827Z"
   },
   {
    "duration": 741,
    "start_time": "2022-03-16T15:32:10.831Z"
   },
   {
    "duration": 740,
    "start_time": "2022-03-16T15:32:10.834Z"
   },
   {
    "duration": 1449,
    "start_time": "2022-03-16T15:32:45.838Z"
   },
   {
    "duration": 79,
    "start_time": "2022-03-16T15:32:47.290Z"
   },
   {
    "duration": 9,
    "start_time": "2022-03-16T15:32:47.373Z"
   },
   {
    "duration": 12,
    "start_time": "2022-03-16T15:32:47.384Z"
   },
   {
    "duration": 51,
    "start_time": "2022-03-16T15:32:47.399Z"
   },
   {
    "duration": 34,
    "start_time": "2022-03-16T15:32:47.452Z"
   },
   {
    "duration": 11,
    "start_time": "2022-03-16T15:32:47.489Z"
   },
   {
    "duration": 105,
    "start_time": "2022-03-16T15:32:47.504Z"
   },
   {
    "duration": 43,
    "start_time": "2022-03-16T15:32:47.613Z"
   },
   {
    "duration": 11,
    "start_time": "2022-03-16T15:32:47.659Z"
   },
   {
    "duration": 7,
    "start_time": "2022-03-16T15:32:47.672Z"
   },
   {
    "duration": 76,
    "start_time": "2022-03-16T15:32:47.681Z"
   },
   {
    "duration": 429,
    "start_time": "2022-03-16T15:32:47.760Z"
   },
   {
    "duration": 748,
    "start_time": "2022-03-16T15:32:47.444Z"
   },
   {
    "duration": 747,
    "start_time": "2022-03-16T15:32:47.447Z"
   },
   {
    "duration": 746,
    "start_time": "2022-03-16T15:32:47.450Z"
   },
   {
    "duration": 747,
    "start_time": "2022-03-16T15:32:47.452Z"
   },
   {
    "duration": 745,
    "start_time": "2022-03-16T15:32:47.456Z"
   },
   {
    "duration": 740,
    "start_time": "2022-03-16T15:32:47.463Z"
   },
   {
    "duration": 13,
    "start_time": "2022-03-16T15:32:56.187Z"
   },
   {
    "duration": 11,
    "start_time": "2022-03-16T15:32:59.226Z"
   },
   {
    "duration": 278,
    "start_time": "2022-03-16T15:33:01.436Z"
   },
   {
    "duration": 286,
    "start_time": "2022-03-16T15:33:01.889Z"
   },
   {
    "duration": 14,
    "start_time": "2022-03-16T15:33:34.440Z"
   },
   {
    "duration": 1737,
    "start_time": "2022-03-16T15:39:10.739Z"
   },
   {
    "duration": 63,
    "start_time": "2022-03-16T15:39:12.480Z"
   },
   {
    "duration": 7,
    "start_time": "2022-03-16T15:39:12.547Z"
   },
   {
    "duration": 11,
    "start_time": "2022-03-16T15:39:12.558Z"
   },
   {
    "duration": 25,
    "start_time": "2022-03-16T15:39:12.572Z"
   },
   {
    "duration": 87,
    "start_time": "2022-03-16T15:39:12.600Z"
   },
   {
    "duration": 13,
    "start_time": "2022-03-16T15:39:12.690Z"
   },
   {
    "duration": 92,
    "start_time": "2022-03-16T15:39:12.708Z"
   },
   {
    "duration": 56,
    "start_time": "2022-03-16T15:39:12.803Z"
   },
   {
    "duration": 9,
    "start_time": "2022-03-16T15:39:12.861Z"
   },
   {
    "duration": 8,
    "start_time": "2022-03-16T15:39:12.873Z"
   },
   {
    "duration": 71,
    "start_time": "2022-03-16T15:39:12.884Z"
   },
   {
    "duration": 422,
    "start_time": "2022-03-16T15:39:12.957Z"
   },
   {
    "duration": 722,
    "start_time": "2022-03-16T15:39:12.660Z"
   },
   {
    "duration": 721,
    "start_time": "2022-03-16T15:39:12.663Z"
   },
   {
    "duration": 721,
    "start_time": "2022-03-16T15:39:12.666Z"
   },
   {
    "duration": 720,
    "start_time": "2022-03-16T15:39:12.669Z"
   },
   {
    "duration": 719,
    "start_time": "2022-03-16T15:39:12.673Z"
   },
   {
    "duration": 716,
    "start_time": "2022-03-16T15:39:12.678Z"
   },
   {
    "duration": 15,
    "start_time": "2022-03-16T15:39:27.880Z"
   },
   {
    "duration": 1341,
    "start_time": "2022-03-16T15:39:32.568Z"
   },
   {
    "duration": 60,
    "start_time": "2022-03-16T15:39:33.912Z"
   },
   {
    "duration": 7,
    "start_time": "2022-03-16T15:39:33.976Z"
   },
   {
    "duration": 20,
    "start_time": "2022-03-16T15:39:33.987Z"
   },
   {
    "duration": 45,
    "start_time": "2022-03-16T15:39:34.010Z"
   },
   {
    "duration": 36,
    "start_time": "2022-03-16T15:39:34.058Z"
   },
   {
    "duration": 10,
    "start_time": "2022-03-16T15:39:34.097Z"
   },
   {
    "duration": 89,
    "start_time": "2022-03-16T15:39:34.111Z"
   },
   {
    "duration": 61,
    "start_time": "2022-03-16T15:39:34.203Z"
   },
   {
    "duration": 9,
    "start_time": "2022-03-16T15:39:34.267Z"
   },
   {
    "duration": 5,
    "start_time": "2022-03-16T15:39:34.279Z"
   },
   {
    "duration": 90,
    "start_time": "2022-03-16T15:39:34.287Z"
   },
   {
    "duration": 16,
    "start_time": "2022-03-16T15:39:34.380Z"
   },
   {
    "duration": 9,
    "start_time": "2022-03-16T15:39:34.399Z"
   },
   {
    "duration": 525,
    "start_time": "2022-03-16T15:39:34.411Z"
   },
   {
    "duration": 752,
    "start_time": "2022-03-16T15:39:34.188Z"
   },
   {
    "duration": 736,
    "start_time": "2022-03-16T15:39:34.207Z"
   },
   {
    "duration": 733,
    "start_time": "2022-03-16T15:39:34.212Z"
   },
   {
    "duration": 732,
    "start_time": "2022-03-16T15:39:34.215Z"
   },
   {
    "duration": 14,
    "start_time": "2022-03-16T15:40:06.042Z"
   },
   {
    "duration": 1392,
    "start_time": "2022-03-16T15:40:38.096Z"
   },
   {
    "duration": 59,
    "start_time": "2022-03-16T15:40:39.491Z"
   },
   {
    "duration": 1034,
    "start_time": "2022-03-16T15:40:39.554Z"
   },
   {
    "duration": 20,
    "start_time": "2022-03-16T15:40:40.591Z"
   },
   {
    "duration": 27,
    "start_time": "2022-03-16T15:40:40.614Z"
   },
   {
    "duration": 34,
    "start_time": "2022-03-16T15:40:40.644Z"
   },
   {
    "duration": 9,
    "start_time": "2022-03-16T15:40:40.680Z"
   },
   {
    "duration": 103,
    "start_time": "2022-03-16T15:40:40.693Z"
   },
   {
    "duration": 51,
    "start_time": "2022-03-16T15:40:40.799Z"
   },
   {
    "duration": 7,
    "start_time": "2022-03-16T15:40:40.852Z"
   },
   {
    "duration": 9,
    "start_time": "2022-03-16T15:40:40.861Z"
   },
   {
    "duration": 45,
    "start_time": "2022-03-16T15:40:40.873Z"
   },
   {
    "duration": 43,
    "start_time": "2022-03-16T15:40:40.920Z"
   },
   {
    "duration": 9,
    "start_time": "2022-03-16T15:40:40.965Z"
   },
   {
    "duration": 19,
    "start_time": "2022-03-16T15:40:40.977Z"
   },
   {
    "duration": 654,
    "start_time": "2022-03-16T15:40:40.999Z"
   },
   {
    "duration": 21864,
    "start_time": "2022-03-16T15:40:41.655Z"
   },
   {
    "duration": 52,
    "start_time": "2022-03-16T15:41:03.522Z"
   },
   {
    "duration": 1841,
    "start_time": "2022-03-16T15:41:03.648Z"
   },
   {
    "duration": 1044,
    "start_time": "2022-03-16T15:43:02.891Z"
   },
   {
    "duration": 444,
    "start_time": "2022-03-16T15:49:51.521Z"
   },
   {
    "duration": 483,
    "start_time": "2022-03-16T15:50:14.999Z"
   },
   {
    "duration": 1328,
    "start_time": "2022-03-16T15:51:48.442Z"
   },
   {
    "duration": 70,
    "start_time": "2022-03-16T15:51:49.772Z"
   },
   {
    "duration": 7,
    "start_time": "2022-03-16T15:51:49.845Z"
   },
   {
    "duration": 9,
    "start_time": "2022-03-16T15:51:49.855Z"
   },
   {
    "duration": 27,
    "start_time": "2022-03-16T15:51:49.866Z"
   },
   {
    "duration": 77,
    "start_time": "2022-03-16T15:51:49.896Z"
   },
   {
    "duration": 11,
    "start_time": "2022-03-16T15:51:49.977Z"
   },
   {
    "duration": 85,
    "start_time": "2022-03-16T15:51:49.992Z"
   },
   {
    "duration": 33,
    "start_time": "2022-03-16T15:51:50.079Z"
   },
   {
    "duration": 33,
    "start_time": "2022-03-16T15:51:50.114Z"
   },
   {
    "duration": 4,
    "start_time": "2022-03-16T15:51:50.150Z"
   },
   {
    "duration": 47,
    "start_time": "2022-03-16T15:51:50.156Z"
   },
   {
    "duration": 55,
    "start_time": "2022-03-16T15:51:50.205Z"
   },
   {
    "duration": 11,
    "start_time": "2022-03-16T15:51:50.263Z"
   },
   {
    "duration": 23,
    "start_time": "2022-03-16T15:51:50.276Z"
   },
   {
    "duration": 699,
    "start_time": "2022-03-16T15:51:50.301Z"
   },
   {
    "duration": 25967,
    "start_time": "2022-03-16T15:51:51.002Z"
   },
   {
    "duration": 173,
    "start_time": "2022-03-16T15:52:16.971Z"
   },
   {
    "duration": 1100,
    "start_time": "2022-03-16T15:52:17.147Z"
   },
   {
    "duration": 1788,
    "start_time": "2022-03-16T15:52:18.250Z"
   },
   {
    "duration": 685,
    "start_time": "2022-03-16T15:52:26.154Z"
   },
   {
    "duration": 540,
    "start_time": "2022-03-16T15:52:37.169Z"
   },
   {
    "duration": 1357,
    "start_time": "2022-03-16T15:55:41.420Z"
   },
   {
    "duration": 59,
    "start_time": "2022-03-16T15:55:42.780Z"
   },
   {
    "duration": 7,
    "start_time": "2022-03-16T15:55:42.843Z"
   },
   {
    "duration": 13,
    "start_time": "2022-03-16T15:55:42.852Z"
   },
   {
    "duration": 25,
    "start_time": "2022-03-16T15:55:42.867Z"
   },
   {
    "duration": 61,
    "start_time": "2022-03-16T15:55:42.894Z"
   },
   {
    "duration": 8,
    "start_time": "2022-03-16T15:55:42.957Z"
   },
   {
    "duration": 85,
    "start_time": "2022-03-16T15:55:42.969Z"
   },
   {
    "duration": 45,
    "start_time": "2022-03-16T15:55:43.058Z"
   },
   {
    "duration": 10,
    "start_time": "2022-03-16T15:55:43.105Z"
   },
   {
    "duration": 6,
    "start_time": "2022-03-16T15:55:43.144Z"
   },
   {
    "duration": 63,
    "start_time": "2022-03-16T15:55:43.152Z"
   },
   {
    "duration": 47,
    "start_time": "2022-03-16T15:55:43.218Z"
   },
   {
    "duration": 10,
    "start_time": "2022-03-16T15:55:43.268Z"
   },
   {
    "duration": 21,
    "start_time": "2022-03-16T15:55:43.281Z"
   },
   {
    "duration": 556,
    "start_time": "2022-03-16T15:55:43.305Z"
   },
   {
    "duration": 21395,
    "start_time": "2022-03-16T15:55:43.864Z"
   },
   {
    "duration": 184,
    "start_time": "2022-03-16T15:56:05.261Z"
   },
   {
    "duration": 1064,
    "start_time": "2022-03-16T15:56:05.447Z"
   },
   {
    "duration": 463,
    "start_time": "2022-03-16T15:56:06.513Z"
   },
   {
    "duration": 1551,
    "start_time": "2022-03-16T15:56:16.949Z"
   },
   {
    "duration": 3013,
    "start_time": "2022-03-16T15:56:27.518Z"
   },
   {
    "duration": 2787,
    "start_time": "2022-03-16T15:57:03.744Z"
   },
   {
    "duration": 1253,
    "start_time": "2022-03-16T15:59:49.425Z"
   },
   {
    "duration": 1498,
    "start_time": "2022-03-16T16:05:50.533Z"
   },
   {
    "duration": 87,
    "start_time": "2022-03-16T16:05:52.035Z"
   },
   {
    "duration": 8,
    "start_time": "2022-03-16T16:05:52.126Z"
   },
   {
    "duration": 16,
    "start_time": "2022-03-16T16:05:52.137Z"
   },
   {
    "duration": 24,
    "start_time": "2022-03-16T16:05:52.155Z"
   },
   {
    "duration": 32,
    "start_time": "2022-03-16T16:05:52.182Z"
   },
   {
    "duration": 9,
    "start_time": "2022-03-16T16:05:52.244Z"
   },
   {
    "duration": 88,
    "start_time": "2022-03-16T16:05:52.257Z"
   },
   {
    "duration": 34,
    "start_time": "2022-03-16T16:05:52.349Z"
   },
   {
    "duration": 10,
    "start_time": "2022-03-16T16:05:52.386Z"
   },
   {
    "duration": 5,
    "start_time": "2022-03-16T16:05:52.399Z"
   },
   {
    "duration": 77,
    "start_time": "2022-03-16T16:05:52.407Z"
   },
   {
    "duration": 22,
    "start_time": "2022-03-16T16:05:52.487Z"
   },
   {
    "duration": 31,
    "start_time": "2022-03-16T16:05:52.512Z"
   },
   {
    "duration": 19,
    "start_time": "2022-03-16T16:05:52.545Z"
   },
   {
    "duration": 543,
    "start_time": "2022-03-16T16:05:52.567Z"
   },
   {
    "duration": 21936,
    "start_time": "2022-03-16T16:05:53.113Z"
   },
   {
    "duration": 197,
    "start_time": "2022-03-16T16:06:15.052Z"
   },
   {
    "duration": 1604,
    "start_time": "2022-03-16T16:06:15.252Z"
   },
   {
    "duration": 3885,
    "start_time": "2022-03-16T16:06:16.859Z"
   },
   {
    "duration": 726,
    "start_time": "2022-03-16T16:06:20.747Z"
   },
   {
    "duration": 77,
    "start_time": "2022-03-16T16:14:10.956Z"
   },
   {
    "duration": 1663,
    "start_time": "2022-03-16T16:20:06.147Z"
   },
   {
    "duration": 90,
    "start_time": "2022-03-16T16:20:07.814Z"
   },
   {
    "duration": 9,
    "start_time": "2022-03-16T16:20:07.908Z"
   },
   {
    "duration": 30,
    "start_time": "2022-03-16T16:20:07.921Z"
   },
   {
    "duration": 27,
    "start_time": "2022-03-16T16:20:07.954Z"
   },
   {
    "duration": 61,
    "start_time": "2022-03-16T16:20:07.983Z"
   },
   {
    "duration": 11,
    "start_time": "2022-03-16T16:20:08.048Z"
   },
   {
    "duration": 88,
    "start_time": "2022-03-16T16:20:08.063Z"
   },
   {
    "duration": 41,
    "start_time": "2022-03-16T16:20:08.155Z"
   },
   {
    "duration": 11,
    "start_time": "2022-03-16T16:20:08.199Z"
   },
   {
    "duration": 35,
    "start_time": "2022-03-16T16:20:08.213Z"
   },
   {
    "duration": 49,
    "start_time": "2022-03-16T16:20:08.250Z"
   },
   {
    "duration": 50,
    "start_time": "2022-03-16T16:20:08.302Z"
   },
   {
    "duration": 14,
    "start_time": "2022-03-16T16:20:08.355Z"
   },
   {
    "duration": 19,
    "start_time": "2022-03-16T16:20:08.371Z"
   },
   {
    "duration": 675,
    "start_time": "2022-03-16T16:20:08.393Z"
   },
   {
    "duration": 21388,
    "start_time": "2022-03-16T16:20:09.071Z"
   },
   {
    "duration": 81,
    "start_time": "2022-03-16T16:20:30.462Z"
   },
   {
    "duration": 1158,
    "start_time": "2022-03-16T16:20:30.547Z"
   },
   {
    "duration": 3865,
    "start_time": "2022-03-16T16:20:31.708Z"
   },
   {
    "duration": 715,
    "start_time": "2022-03-16T16:20:35.576Z"
   },
   {
    "duration": 73,
    "start_time": "2022-03-16T16:20:36.294Z"
   },
   {
    "duration": 1353,
    "start_time": "2022-03-16T16:21:40.304Z"
   },
   {
    "duration": 59,
    "start_time": "2022-03-16T16:21:41.660Z"
   },
   {
    "duration": 21,
    "start_time": "2022-03-16T16:21:41.722Z"
   },
   {
    "duration": 9,
    "start_time": "2022-03-16T16:21:41.745Z"
   },
   {
    "duration": 27,
    "start_time": "2022-03-16T16:21:41.756Z"
   },
   {
    "duration": 66,
    "start_time": "2022-03-16T16:21:41.786Z"
   },
   {
    "duration": 8,
    "start_time": "2022-03-16T16:21:41.855Z"
   },
   {
    "duration": 107,
    "start_time": "2022-03-16T16:21:41.866Z"
   },
   {
    "duration": 45,
    "start_time": "2022-03-16T16:21:41.976Z"
   },
   {
    "duration": 26,
    "start_time": "2022-03-16T16:21:42.024Z"
   },
   {
    "duration": 6,
    "start_time": "2022-03-16T16:21:42.052Z"
   },
   {
    "duration": 60,
    "start_time": "2022-03-16T16:21:42.060Z"
   },
   {
    "duration": 33,
    "start_time": "2022-03-16T16:21:42.145Z"
   },
   {
    "duration": 10,
    "start_time": "2022-03-16T16:21:42.181Z"
   },
   {
    "duration": 19,
    "start_time": "2022-03-16T16:21:42.193Z"
   },
   {
    "duration": 520,
    "start_time": "2022-03-16T16:21:42.244Z"
   },
   {
    "duration": 21555,
    "start_time": "2022-03-16T16:21:42.767Z"
   },
   {
    "duration": 125,
    "start_time": "2022-03-16T16:22:04.326Z"
   },
   {
    "duration": 1237,
    "start_time": "2022-03-16T16:22:04.454Z"
   },
   {
    "duration": 2918,
    "start_time": "2022-03-16T16:22:05.695Z"
   },
   {
    "duration": 708,
    "start_time": "2022-03-16T16:22:08.616Z"
   },
   {
    "duration": 74,
    "start_time": "2022-03-16T16:22:09.327Z"
   },
   {
    "duration": 71,
    "start_time": "2022-03-16T16:22:34.526Z"
   },
   {
    "duration": 1384,
    "start_time": "2022-03-16T16:59:49.896Z"
   },
   {
    "duration": 61,
    "start_time": "2022-03-16T16:59:51.282Z"
   },
   {
    "duration": 7,
    "start_time": "2022-03-16T16:59:51.347Z"
   },
   {
    "duration": 8,
    "start_time": "2022-03-16T16:59:51.357Z"
   },
   {
    "duration": 24,
    "start_time": "2022-03-16T16:59:51.367Z"
   },
   {
    "duration": 75,
    "start_time": "2022-03-16T16:59:51.394Z"
   },
   {
    "duration": 9,
    "start_time": "2022-03-16T16:59:51.472Z"
   },
   {
    "duration": 91,
    "start_time": "2022-03-16T16:59:51.484Z"
   },
   {
    "duration": 33,
    "start_time": "2022-03-16T16:59:51.578Z"
   },
   {
    "duration": 8,
    "start_time": "2022-03-16T16:59:51.613Z"
   },
   {
    "duration": 4,
    "start_time": "2022-03-16T16:59:51.644Z"
   },
   {
    "duration": 44,
    "start_time": "2022-03-16T16:59:51.651Z"
   },
   {
    "duration": 58,
    "start_time": "2022-03-16T16:59:51.698Z"
   },
   {
    "duration": 8,
    "start_time": "2022-03-16T16:59:51.759Z"
   },
   {
    "duration": 18,
    "start_time": "2022-03-16T16:59:51.769Z"
   },
   {
    "duration": 554,
    "start_time": "2022-03-16T16:59:51.790Z"
   },
   {
    "duration": 21610,
    "start_time": "2022-03-16T16:59:52.347Z"
   },
   {
    "duration": 183,
    "start_time": "2022-03-16T17:00:13.960Z"
   },
   {
    "duration": 1357,
    "start_time": "2022-03-16T17:00:14.146Z"
   },
   {
    "duration": 2763,
    "start_time": "2022-03-16T17:00:15.506Z"
   },
   {
    "duration": 712,
    "start_time": "2022-03-16T17:00:18.271Z"
   },
   {
    "duration": 87,
    "start_time": "2022-03-16T17:00:18.985Z"
   },
   {
    "duration": 502,
    "start_time": "2022-03-16T17:00:19.077Z"
   },
   {
    "duration": 349,
    "start_time": "2022-03-16T17:00:40.988Z"
   },
   {
    "duration": 344,
    "start_time": "2022-03-16T17:00:47.863Z"
   },
   {
    "duration": 1298,
    "start_time": "2022-03-16T17:01:34.455Z"
   },
   {
    "duration": 779,
    "start_time": "2022-03-16T17:01:34.980Z"
   },
   {
    "duration": 778,
    "start_time": "2022-03-16T17:01:34.982Z"
   },
   {
    "duration": 777,
    "start_time": "2022-03-16T17:01:34.985Z"
   },
   {
    "duration": 758,
    "start_time": "2022-03-16T17:01:35.006Z"
   },
   {
    "duration": 758,
    "start_time": "2022-03-16T17:01:35.009Z"
   },
   {
    "duration": 758,
    "start_time": "2022-03-16T17:01:35.012Z"
   },
   {
    "duration": 754,
    "start_time": "2022-03-16T17:01:35.018Z"
   },
   {
    "duration": 753,
    "start_time": "2022-03-16T17:01:35.021Z"
   },
   {
    "duration": 752,
    "start_time": "2022-03-16T17:01:35.024Z"
   },
   {
    "duration": 752,
    "start_time": "2022-03-16T17:01:35.027Z"
   },
   {
    "duration": 751,
    "start_time": "2022-03-16T17:01:35.030Z"
   },
   {
    "duration": 747,
    "start_time": "2022-03-16T17:01:35.036Z"
   },
   {
    "duration": 748,
    "start_time": "2022-03-16T17:01:35.038Z"
   },
   {
    "duration": 747,
    "start_time": "2022-03-16T17:01:35.041Z"
   },
   {
    "duration": 745,
    "start_time": "2022-03-16T17:01:35.046Z"
   },
   {
    "duration": 744,
    "start_time": "2022-03-16T17:01:35.050Z"
   },
   {
    "duration": 731,
    "start_time": "2022-03-16T17:01:35.064Z"
   },
   {
    "duration": 726,
    "start_time": "2022-03-16T17:01:35.071Z"
   },
   {
    "duration": 770,
    "start_time": "2022-03-16T17:01:35.074Z"
   },
   {
    "duration": 770,
    "start_time": "2022-03-16T17:01:35.077Z"
   },
   {
    "duration": 769,
    "start_time": "2022-03-16T17:01:35.080Z"
   },
   {
    "duration": 763,
    "start_time": "2022-03-16T17:01:35.089Z"
   },
   {
    "duration": 1532,
    "start_time": "2022-03-16T17:02:05.320Z"
   },
   {
    "duration": 79,
    "start_time": "2022-03-16T17:02:06.855Z"
   },
   {
    "duration": 12,
    "start_time": "2022-03-16T17:02:06.939Z"
   },
   {
    "duration": 10,
    "start_time": "2022-03-16T17:02:06.954Z"
   },
   {
    "duration": 28,
    "start_time": "2022-03-16T17:02:06.967Z"
   },
   {
    "duration": 84,
    "start_time": "2022-03-16T17:02:06.998Z"
   },
   {
    "duration": 12,
    "start_time": "2022-03-16T17:02:07.085Z"
   },
   {
    "duration": 96,
    "start_time": "2022-03-16T17:02:07.102Z"
   },
   {
    "duration": 53,
    "start_time": "2022-03-16T17:02:07.201Z"
   },
   {
    "duration": 9,
    "start_time": "2022-03-16T17:02:07.257Z"
   },
   {
    "duration": 5,
    "start_time": "2022-03-16T17:02:07.269Z"
   },
   {
    "duration": 73,
    "start_time": "2022-03-16T17:02:07.276Z"
   },
   {
    "duration": 23,
    "start_time": "2022-03-16T17:02:07.352Z"
   },
   {
    "duration": 9,
    "start_time": "2022-03-16T17:02:07.378Z"
   },
   {
    "duration": 56,
    "start_time": "2022-03-16T17:02:07.390Z"
   },
   {
    "duration": 732,
    "start_time": "2022-03-16T17:02:07.448Z"
   },
   {
    "duration": 21869,
    "start_time": "2022-03-16T17:02:08.184Z"
   },
   {
    "duration": 94,
    "start_time": "2022-03-16T17:02:30.055Z"
   },
   {
    "duration": 1169,
    "start_time": "2022-03-16T17:02:30.152Z"
   },
   {
    "duration": 2819,
    "start_time": "2022-03-16T17:02:31.324Z"
   },
   {
    "duration": 701,
    "start_time": "2022-03-16T17:02:34.145Z"
   },
   {
    "duration": 69,
    "start_time": "2022-03-16T17:02:34.848Z"
   },
   {
    "duration": 386,
    "start_time": "2022-03-16T17:02:34.921Z"
   },
   {
    "duration": 8,
    "start_time": "2022-03-16T17:04:14.911Z"
   },
   {
    "duration": 5593,
    "start_time": "2022-03-17T14:20:45.499Z"
   },
   {
    "duration": 1556,
    "start_time": "2022-03-17T14:20:51.094Z"
   },
   {
    "duration": 6,
    "start_time": "2022-03-17T14:20:52.652Z"
   },
   {
    "duration": 13,
    "start_time": "2022-03-17T14:20:52.661Z"
   },
   {
    "duration": 34,
    "start_time": "2022-03-17T14:20:52.676Z"
   },
   {
    "duration": 54,
    "start_time": "2022-03-17T14:20:52.712Z"
   },
   {
    "duration": 9,
    "start_time": "2022-03-17T14:20:52.769Z"
   },
   {
    "duration": 61,
    "start_time": "2022-03-17T14:20:52.780Z"
   },
   {
    "duration": 22,
    "start_time": "2022-03-17T14:20:52.843Z"
   },
   {
    "duration": 5,
    "start_time": "2022-03-17T14:20:52.867Z"
   },
   {
    "duration": 4,
    "start_time": "2022-03-17T14:20:52.874Z"
   },
   {
    "duration": 60,
    "start_time": "2022-03-17T14:20:52.879Z"
   },
   {
    "duration": 21,
    "start_time": "2022-03-17T14:20:52.940Z"
   },
   {
    "duration": 9,
    "start_time": "2022-03-17T14:20:52.963Z"
   },
   {
    "duration": 13,
    "start_time": "2022-03-17T14:20:52.974Z"
   },
   {
    "duration": 428,
    "start_time": "2022-03-17T14:20:52.989Z"
   },
   {
    "duration": 14158,
    "start_time": "2022-03-17T14:20:53.419Z"
   },
   {
    "duration": 260,
    "start_time": "2022-03-17T14:21:07.579Z"
   },
   {
    "duration": 877,
    "start_time": "2022-03-17T14:21:07.841Z"
   },
   {
    "duration": 2100,
    "start_time": "2022-03-17T14:21:08.720Z"
   },
   {
    "duration": 556,
    "start_time": "2022-03-17T14:21:10.822Z"
   },
   {
    "duration": 61,
    "start_time": "2022-03-17T14:21:11.380Z"
   },
   {
    "duration": 214,
    "start_time": "2022-03-17T14:21:11.445Z"
   },
   {
    "duration": 8,
    "start_time": "2022-03-17T14:21:11.661Z"
   },
   {
    "duration": 93,
    "start_time": "2022-03-18T05:02:01.459Z"
   },
   {
    "duration": 44,
    "start_time": "2022-03-18T05:19:55.226Z"
   },
   {
    "duration": 1612,
    "start_time": "2022-03-18T05:19:59.936Z"
   },
   {
    "duration": 42,
    "start_time": "2022-03-18T05:20:01.550Z"
   },
   {
    "duration": 6,
    "start_time": "2022-03-18T05:20:01.594Z"
   },
   {
    "duration": 27,
    "start_time": "2022-03-18T05:20:01.602Z"
   },
   {
    "duration": 26,
    "start_time": "2022-03-18T05:20:01.632Z"
   },
   {
    "duration": 43,
    "start_time": "2022-03-18T05:20:01.660Z"
   },
   {
    "duration": 9,
    "start_time": "2022-03-18T05:20:01.705Z"
   },
   {
    "duration": 43,
    "start_time": "2022-03-18T05:20:01.716Z"
   },
   {
    "duration": 20,
    "start_time": "2022-03-18T05:20:01.762Z"
   },
   {
    "duration": 5,
    "start_time": "2022-03-18T05:20:01.785Z"
   },
   {
    "duration": 31,
    "start_time": "2022-03-18T05:20:01.792Z"
   },
   {
    "duration": 82,
    "start_time": "2022-03-18T05:20:01.825Z"
   },
   {
    "duration": 0,
    "start_time": "2022-03-18T05:20:01.909Z"
   },
   {
    "duration": 0,
    "start_time": "2022-03-18T05:20:01.911Z"
   },
   {
    "duration": 0,
    "start_time": "2022-03-18T05:20:01.912Z"
   },
   {
    "duration": 0,
    "start_time": "2022-03-18T05:20:01.914Z"
   },
   {
    "duration": 0,
    "start_time": "2022-03-18T05:20:01.916Z"
   },
   {
    "duration": 0,
    "start_time": "2022-03-18T05:20:01.917Z"
   },
   {
    "duration": 0,
    "start_time": "2022-03-18T05:20:01.919Z"
   },
   {
    "duration": 0,
    "start_time": "2022-03-18T05:20:01.921Z"
   },
   {
    "duration": 0,
    "start_time": "2022-03-18T05:20:01.922Z"
   },
   {
    "duration": 0,
    "start_time": "2022-03-18T05:20:01.924Z"
   },
   {
    "duration": 0,
    "start_time": "2022-03-18T05:20:01.926Z"
   },
   {
    "duration": 0,
    "start_time": "2022-03-18T05:20:01.927Z"
   },
   {
    "duration": 0,
    "start_time": "2022-03-18T05:20:01.929Z"
   },
   {
    "duration": 24,
    "start_time": "2022-03-18T05:20:22.049Z"
   },
   {
    "duration": 142,
    "start_time": "2022-03-18T05:21:08.229Z"
   },
   {
    "duration": 119,
    "start_time": "2022-03-18T05:21:22.110Z"
   },
   {
    "duration": 28,
    "start_time": "2022-03-18T05:21:29.029Z"
   },
   {
    "duration": 6,
    "start_time": "2022-03-18T05:21:54.320Z"
   },
   {
    "duration": 120,
    "start_time": "2022-03-18T05:22:02.499Z"
   },
   {
    "duration": 43,
    "start_time": "2022-03-18T07:50:52.666Z"
   },
   {
    "duration": 1567,
    "start_time": "2022-03-18T07:50:57.137Z"
   },
   {
    "duration": 40,
    "start_time": "2022-03-18T07:50:58.706Z"
   },
   {
    "duration": 4,
    "start_time": "2022-03-18T07:50:58.748Z"
   },
   {
    "duration": 7,
    "start_time": "2022-03-18T07:50:58.753Z"
   },
   {
    "duration": 16,
    "start_time": "2022-03-18T07:50:58.762Z"
   },
   {
    "duration": 25,
    "start_time": "2022-03-18T07:50:58.779Z"
   },
   {
    "duration": 6,
    "start_time": "2022-03-18T07:50:58.806Z"
   },
   {
    "duration": 33,
    "start_time": "2022-03-18T07:50:58.813Z"
   },
   {
    "duration": 17,
    "start_time": "2022-03-18T07:50:58.847Z"
   },
   {
    "duration": 4,
    "start_time": "2022-03-18T07:50:58.866Z"
   },
   {
    "duration": 31,
    "start_time": "2022-03-18T07:50:58.871Z"
   },
   {
    "duration": 22,
    "start_time": "2022-03-18T07:50:58.903Z"
   },
   {
    "duration": 4,
    "start_time": "2022-03-18T07:50:58.926Z"
   },
   {
    "duration": 10,
    "start_time": "2022-03-18T07:50:58.932Z"
   },
   {
    "duration": 690,
    "start_time": "2022-03-18T07:50:58.943Z"
   },
   {
    "duration": 15,
    "start_time": "2022-03-18T07:50:59.635Z"
   },
   {
    "duration": 351,
    "start_time": "2022-03-18T07:50:59.651Z"
   },
   {
    "duration": 12599,
    "start_time": "2022-03-18T07:51:00.004Z"
   },
   {
    "duration": 497,
    "start_time": "2022-03-18T07:51:12.605Z"
   },
   {
    "duration": 734,
    "start_time": "2022-03-18T07:51:13.104Z"
   },
   {
    "duration": 1612,
    "start_time": "2022-03-18T07:51:13.839Z"
   },
   {
    "duration": 424,
    "start_time": "2022-03-18T07:51:15.452Z"
   },
   {
    "duration": 50,
    "start_time": "2022-03-18T07:51:15.878Z"
   },
   {
    "duration": 163,
    "start_time": "2022-03-18T07:51:15.930Z"
   },
   {
    "duration": 17,
    "start_time": "2022-03-18T07:51:16.094Z"
   },
   {
    "duration": 1150,
    "start_time": "2022-03-18T07:51:29.379Z"
   },
   {
    "duration": 605,
    "start_time": "2022-03-18T07:54:27.947Z"
   },
   {
    "duration": 121,
    "start_time": "2022-03-18T08:00:54.368Z"
   },
   {
    "duration": 105,
    "start_time": "2022-03-18T08:01:04.767Z"
   },
   {
    "duration": 118,
    "start_time": "2022-03-18T08:04:19.699Z"
   },
   {
    "duration": 168,
    "start_time": "2022-03-18T08:13:48.628Z"
   },
   {
    "duration": 193,
    "start_time": "2022-03-18T08:14:03.898Z"
   },
   {
    "duration": 15,
    "start_time": "2022-03-18T08:15:30.497Z"
   },
   {
    "duration": 139,
    "start_time": "2022-03-18T08:54:46.930Z"
   },
   {
    "duration": 7,
    "start_time": "2022-03-18T09:00:10.969Z"
   },
   {
    "duration": 7,
    "start_time": "2022-03-18T09:00:26.908Z"
   },
   {
    "duration": 25,
    "start_time": "2022-03-18T10:22:25.227Z"
   },
   {
    "duration": 1506,
    "start_time": "2022-03-18T10:22:41.072Z"
   },
   {
    "duration": 38,
    "start_time": "2022-03-18T10:22:42.580Z"
   },
   {
    "duration": 5,
    "start_time": "2022-03-18T10:22:42.620Z"
   },
   {
    "duration": 6,
    "start_time": "2022-03-18T10:22:42.627Z"
   },
   {
    "duration": 16,
    "start_time": "2022-03-18T10:22:42.635Z"
   },
   {
    "duration": 22,
    "start_time": "2022-03-18T10:22:42.652Z"
   },
   {
    "duration": 30,
    "start_time": "2022-03-18T10:22:42.675Z"
   },
   {
    "duration": 34,
    "start_time": "2022-03-18T10:22:42.706Z"
   },
   {
    "duration": 19,
    "start_time": "2022-03-18T10:22:42.742Z"
   },
   {
    "duration": 6,
    "start_time": "2022-03-18T10:22:42.763Z"
   },
   {
    "duration": 33,
    "start_time": "2022-03-18T10:22:42.770Z"
   },
   {
    "duration": 21,
    "start_time": "2022-03-18T10:22:42.805Z"
   },
   {
    "duration": 165,
    "start_time": "2022-03-18T10:22:42.828Z"
   },
   {
    "duration": 11,
    "start_time": "2022-03-18T10:22:42.996Z"
   },
   {
    "duration": 14,
    "start_time": "2022-03-18T10:22:43.009Z"
   },
   {
    "duration": 35,
    "start_time": "2022-03-18T10:22:43.024Z"
   },
   {
    "duration": 382,
    "start_time": "2022-03-18T10:22:43.061Z"
   },
   {
    "duration": 12749,
    "start_time": "2022-03-18T10:22:43.445Z"
   },
   {
    "duration": 309,
    "start_time": "2022-03-18T10:22:56.201Z"
   },
   {
    "duration": 820,
    "start_time": "2022-03-18T10:22:56.512Z"
   },
   {
    "duration": 1621,
    "start_time": "2022-03-18T10:22:57.334Z"
   },
   {
    "duration": 427,
    "start_time": "2022-03-18T10:22:58.957Z"
   },
   {
    "duration": 59,
    "start_time": "2022-03-18T10:22:59.386Z"
   },
   {
    "duration": 144,
    "start_time": "2022-03-18T10:22:59.446Z"
   },
   {
    "duration": 9,
    "start_time": "2022-03-18T10:22:59.592Z"
   },
   {
    "duration": 368,
    "start_time": "2022-03-18T10:35:06.972Z"
   },
   {
    "duration": 1517,
    "start_time": "2022-03-18T10:55:58.176Z"
   },
   {
    "duration": 54,
    "start_time": "2022-03-18T10:55:59.694Z"
   },
   {
    "duration": 204,
    "start_time": "2022-03-18T10:55:59.750Z"
   },
   {
    "duration": 134,
    "start_time": "2022-03-18T10:55:59.955Z"
   },
   {
    "duration": 191,
    "start_time": "2022-03-18T10:56:00.091Z"
   },
   {
    "duration": 215,
    "start_time": "2022-03-18T10:56:00.283Z"
   },
   {
    "duration": 375,
    "start_time": "2022-03-18T10:56:00.500Z"
   },
   {
    "duration": 321,
    "start_time": "2022-03-18T10:56:00.876Z"
   },
   {
    "duration": 281,
    "start_time": "2022-03-18T10:56:01.198Z"
   },
   {
    "duration": 185,
    "start_time": "2022-03-18T10:56:01.480Z"
   },
   {
    "duration": 183,
    "start_time": "2022-03-18T10:56:01.667Z"
   },
   {
    "duration": 290,
    "start_time": "2022-03-18T10:56:01.852Z"
   },
   {
    "duration": 308,
    "start_time": "2022-03-18T10:56:02.144Z"
   },
   {
    "duration": 96,
    "start_time": "2022-03-18T10:56:02.455Z"
   },
   {
    "duration": 76,
    "start_time": "2022-03-18T10:56:02.553Z"
   },
   {
    "duration": 83,
    "start_time": "2022-03-18T10:56:02.632Z"
   },
   {
    "duration": 645,
    "start_time": "2022-03-18T10:56:02.717Z"
   },
   {
    "duration": 12778,
    "start_time": "2022-03-18T10:56:03.364Z"
   },
   {
    "duration": 1067,
    "start_time": "2022-03-18T10:56:16.144Z"
   },
   {
    "duration": 758,
    "start_time": "2022-03-18T10:56:17.302Z"
   },
   {
    "duration": 1948,
    "start_time": "2022-03-18T10:56:18.061Z"
   },
   {
    "duration": 438,
    "start_time": "2022-03-18T10:56:20.011Z"
   },
   {
    "duration": 59,
    "start_time": "2022-03-18T10:56:20.451Z"
   },
   {
    "duration": 472,
    "start_time": "2022-03-18T10:56:20.512Z"
   },
   {
    "duration": 74,
    "start_time": "2022-03-18T10:56:20.985Z"
   },
   {
    "duration": 1521,
    "start_time": "2022-03-18T11:01:50.616Z"
   },
   {
    "duration": 54,
    "start_time": "2022-03-18T11:01:52.140Z"
   },
   {
    "duration": 933,
    "start_time": "2022-03-18T11:01:52.196Z"
   },
   {
    "duration": 756,
    "start_time": "2022-03-18T11:01:53.131Z"
   },
   {
    "duration": 1393,
    "start_time": "2022-03-18T11:01:53.890Z"
   },
   {
    "duration": 527,
    "start_time": "2022-03-18T11:01:55.284Z"
   },
   {
    "duration": 514,
    "start_time": "2022-03-18T11:01:55.812Z"
   },
   {
    "duration": 593,
    "start_time": "2022-03-18T11:01:56.328Z"
   },
   {
    "duration": 494,
    "start_time": "2022-03-18T11:01:56.923Z"
   },
   {
    "duration": 253,
    "start_time": "2022-03-18T11:01:57.418Z"
   },
   {
    "duration": 341,
    "start_time": "2022-03-18T11:01:57.673Z"
   },
   {
    "duration": 211,
    "start_time": "2022-03-18T11:01:58.016Z"
   },
   {
    "duration": 387,
    "start_time": "2022-03-18T11:01:58.228Z"
   },
   {
    "duration": 150,
    "start_time": "2022-03-18T11:01:58.618Z"
   },
   {
    "duration": 355,
    "start_time": "2022-03-18T11:01:58.769Z"
   },
   {
    "duration": 560,
    "start_time": "2022-03-18T11:01:59.126Z"
   },
   {
    "duration": 782,
    "start_time": "2022-03-18T11:01:59.688Z"
   },
   {
    "duration": 18341,
    "start_time": "2022-03-18T11:02:00.472Z"
   },
   {
    "duration": 294,
    "start_time": "2022-03-18T11:02:18.815Z"
   },
   {
    "duration": 1539,
    "start_time": "2022-03-18T11:02:19.111Z"
   },
   {
    "duration": 1770,
    "start_time": "2022-03-18T11:02:20.653Z"
   },
   {
    "duration": 860,
    "start_time": "2022-03-18T11:02:22.425Z"
   },
   {
    "duration": 1014,
    "start_time": "2022-03-18T11:02:23.287Z"
   },
   {
    "duration": 1007,
    "start_time": "2022-03-18T11:02:24.303Z"
   },
   {
    "duration": 522,
    "start_time": "2022-03-18T11:02:25.311Z"
   },
   {
    "duration": 1568,
    "start_time": "2022-03-18T11:07:31.100Z"
   },
   {
    "duration": 56,
    "start_time": "2022-03-18T11:07:32.670Z"
   },
   {
    "duration": 1098,
    "start_time": "2022-03-18T11:07:32.728Z"
   },
   {
    "duration": 705,
    "start_time": "2022-03-18T11:07:33.828Z"
   },
   {
    "duration": 983,
    "start_time": "2022-03-18T11:07:34.535Z"
   },
   {
    "duration": 414,
    "start_time": "2022-03-18T11:07:35.519Z"
   },
   {
    "duration": 457,
    "start_time": "2022-03-18T11:07:35.935Z"
   },
   {
    "duration": 435,
    "start_time": "2022-03-18T11:07:36.394Z"
   },
   {
    "duration": 254,
    "start_time": "2022-03-18T11:07:36.830Z"
   },
   {
    "duration": 194,
    "start_time": "2022-03-18T11:07:37.085Z"
   },
   {
    "duration": 340,
    "start_time": "2022-03-18T11:07:37.280Z"
   },
   {
    "duration": 550,
    "start_time": "2022-03-18T11:07:37.622Z"
   },
   {
    "duration": 1082,
    "start_time": "2022-03-18T11:07:38.174Z"
   },
   {
    "duration": 725,
    "start_time": "2022-03-18T11:07:39.259Z"
   },
   {
    "duration": 969,
    "start_time": "2022-03-18T11:07:39.985Z"
   },
   {
    "duration": 747,
    "start_time": "2022-03-18T11:07:40.956Z"
   },
   {
    "duration": 743,
    "start_time": "2022-03-18T11:07:41.705Z"
   },
   {
    "duration": 13607,
    "start_time": "2022-03-18T11:07:42.450Z"
   },
   {
    "duration": 347,
    "start_time": "2022-03-18T11:07:56.059Z"
   },
   {
    "duration": 955,
    "start_time": "2022-03-18T11:07:56.410Z"
   },
   {
    "duration": 993,
    "start_time": "2022-03-18T11:07:57.367Z"
   },
   {
    "duration": 0,
    "start_time": "2022-03-18T11:07:58.362Z"
   },
   {
    "duration": 0,
    "start_time": "2022-03-18T11:07:58.363Z"
   },
   {
    "duration": 0,
    "start_time": "2022-03-18T11:07:58.364Z"
   },
   {
    "duration": 0,
    "start_time": "2022-03-18T11:07:58.365Z"
   },
   {
    "duration": 0,
    "start_time": "2022-03-18T11:07:58.366Z"
   },
   {
    "duration": 896,
    "start_time": "2022-03-18T11:11:35.685Z"
   },
   {
    "duration": 1411,
    "start_time": "2022-03-18T11:11:39.711Z"
   },
   {
    "duration": 2,
    "start_time": "2022-03-18T11:11:59.463Z"
   },
   {
    "duration": 9,
    "start_time": "2022-03-18T11:12:01.813Z"
   },
   {
    "duration": 2250,
    "start_time": "2022-03-18T11:12:02.005Z"
   },
   {
    "duration": 0,
    "start_time": "2022-03-18T11:12:04.256Z"
   },
   {
    "duration": 46,
    "start_time": "2022-03-18T11:12:12.045Z"
   },
   {
    "duration": 1572,
    "start_time": "2022-03-18T11:12:13.073Z"
   },
   {
    "duration": 0,
    "start_time": "2022-03-18T11:12:14.647Z"
   },
   {
    "duration": 142,
    "start_time": "2022-03-18T11:12:30.657Z"
   },
   {
    "duration": 6011,
    "start_time": "2022-03-18T11:12:30.802Z"
   },
   {
    "duration": 12565,
    "start_time": "2022-03-18T11:22:06.093Z"
   },
   {
    "duration": 1481,
    "start_time": "2022-03-18T11:24:28.927Z"
   },
   {
    "duration": 41,
    "start_time": "2022-03-18T11:24:30.410Z"
   },
   {
    "duration": 892,
    "start_time": "2022-03-18T11:24:30.453Z"
   },
   {
    "duration": 1964,
    "start_time": "2022-03-18T11:24:31.347Z"
   },
   {
    "duration": 891,
    "start_time": "2022-03-18T11:24:33.313Z"
   },
   {
    "duration": 504,
    "start_time": "2022-03-18T11:24:34.206Z"
   },
   {
    "duration": 1760,
    "start_time": "2022-03-18T11:24:34.712Z"
   },
   {
    "duration": 1238,
    "start_time": "2022-03-18T11:24:36.474Z"
   },
   {
    "duration": 1631,
    "start_time": "2022-03-18T11:24:37.714Z"
   },
   {
    "duration": 1046,
    "start_time": "2022-03-18T11:24:39.347Z"
   },
   {
    "duration": 1340,
    "start_time": "2022-03-18T11:24:40.395Z"
   },
   {
    "duration": 778,
    "start_time": "2022-03-18T11:24:41.737Z"
   },
   {
    "duration": 2181,
    "start_time": "2022-03-18T11:24:42.517Z"
   },
   {
    "duration": 592,
    "start_time": "2022-03-18T11:24:44.701Z"
   },
   {
    "duration": 845,
    "start_time": "2022-03-18T11:24:45.296Z"
   },
   {
    "duration": 775,
    "start_time": "2022-03-18T11:24:46.143Z"
   },
   {
    "duration": 785,
    "start_time": "2022-03-18T11:24:46.921Z"
   },
   {
    "duration": 15077,
    "start_time": "2022-03-18T11:24:47.707Z"
   },
   {
    "duration": 219,
    "start_time": "2022-03-18T11:25:02.786Z"
   },
   {
    "duration": 17622,
    "start_time": "2022-03-18T11:25:03.008Z"
   },
   {
    "duration": 0,
    "start_time": "2022-03-18T11:25:20.632Z"
   },
   {
    "duration": 0,
    "start_time": "2022-03-18T11:25:20.633Z"
   },
   {
    "duration": 0,
    "start_time": "2022-03-18T11:25:20.633Z"
   },
   {
    "duration": 0,
    "start_time": "2022-03-18T11:25:20.635Z"
   },
   {
    "duration": 0,
    "start_time": "2022-03-18T11:25:20.635Z"
   },
   {
    "duration": 0,
    "start_time": "2022-03-18T11:25:20.636Z"
   },
   {
    "duration": 0,
    "start_time": "2022-03-18T11:25:20.637Z"
   },
   {
    "duration": 75,
    "start_time": "2022-03-18T11:26:13.057Z"
   },
   {
    "duration": 13162,
    "start_time": "2022-03-18T11:27:24.689Z"
   },
   {
    "duration": 10,
    "start_time": "2022-03-18T11:39:27.227Z"
   },
   {
    "duration": 12,
    "start_time": "2022-03-18T11:39:37.366Z"
   },
   {
    "duration": 5110,
    "start_time": "2022-03-18T11:39:37.887Z"
   },
   {
    "duration": 17614,
    "start_time": "2022-03-18T11:40:00.939Z"
   },
   {
    "duration": 11,
    "start_time": "2022-03-18T14:02:06.462Z"
   },
   {
    "duration": 13,
    "start_time": "2022-03-18T14:02:13.414Z"
   },
   {
    "duration": 11,
    "start_time": "2022-03-18T14:02:14.014Z"
   },
   {
    "duration": 12,
    "start_time": "2022-03-18T14:02:31.015Z"
   },
   {
    "duration": 7134,
    "start_time": "2022-03-18T14:02:32.814Z"
   },
   {
    "duration": 675,
    "start_time": "2022-03-18T14:09:05.074Z"
   },
   {
    "duration": 673,
    "start_time": "2022-03-18T14:10:07.135Z"
   },
   {
    "duration": 834,
    "start_time": "2022-03-18T14:15:52.534Z"
   },
   {
    "duration": 358,
    "start_time": "2022-03-18T14:40:00.415Z"
   },
   {
    "duration": 244,
    "start_time": "2022-03-18T17:12:44.758Z"
   },
   {
    "duration": 2,
    "start_time": "2022-03-18T17:13:02.106Z"
   },
   {
    "duration": 2,
    "start_time": "2022-03-18T17:13:12.474Z"
   },
   {
    "duration": 1452,
    "start_time": "2022-03-18T17:53:13.329Z"
   },
   {
    "duration": 40,
    "start_time": "2022-03-18T17:53:14.783Z"
   },
   {
    "duration": 5,
    "start_time": "2022-03-18T17:53:14.824Z"
   },
   {
    "duration": 6,
    "start_time": "2022-03-18T17:53:14.831Z"
   },
   {
    "duration": 16,
    "start_time": "2022-03-18T17:53:14.839Z"
   },
   {
    "duration": 22,
    "start_time": "2022-03-18T17:53:14.856Z"
   },
   {
    "duration": 26,
    "start_time": "2022-03-18T17:53:14.879Z"
   },
   {
    "duration": 33,
    "start_time": "2022-03-18T17:53:14.906Z"
   },
   {
    "duration": 17,
    "start_time": "2022-03-18T17:53:14.940Z"
   },
   {
    "duration": 4,
    "start_time": "2022-03-18T17:53:14.959Z"
   },
   {
    "duration": 4,
    "start_time": "2022-03-18T17:53:14.964Z"
   },
   {
    "duration": 47,
    "start_time": "2022-03-18T17:53:14.969Z"
   },
   {
    "duration": 135,
    "start_time": "2022-03-18T17:53:15.018Z"
   },
   {
    "duration": 7,
    "start_time": "2022-03-18T17:53:15.156Z"
   },
   {
    "duration": 10,
    "start_time": "2022-03-18T17:53:15.165Z"
   },
   {
    "duration": 38,
    "start_time": "2022-03-18T17:53:15.176Z"
   },
   {
    "duration": 664,
    "start_time": "2022-03-18T17:53:15.215Z"
   },
   {
    "duration": 12939,
    "start_time": "2022-03-18T17:53:15.881Z"
   },
   {
    "duration": 779,
    "start_time": "2022-03-18T17:53:28.822Z"
   },
   {
    "duration": 12514,
    "start_time": "2022-03-18T17:53:29.603Z"
   },
   {
    "duration": 12,
    "start_time": "2022-03-18T17:53:42.118Z"
   },
   {
    "duration": 17571,
    "start_time": "2022-03-18T17:53:42.131Z"
   },
   {
    "duration": 11,
    "start_time": "2022-03-18T17:53:59.703Z"
   },
   {
    "duration": 6814,
    "start_time": "2022-03-18T17:53:59.716Z"
   },
   {
    "duration": 708,
    "start_time": "2022-03-18T17:54:06.531Z"
   },
   {
    "duration": 846,
    "start_time": "2022-03-18T17:54:07.240Z"
   },
   {
    "duration": 354,
    "start_time": "2022-03-18T17:54:08.087Z"
   },
   {
    "duration": 266,
    "start_time": "2022-03-18T17:54:08.443Z"
   },
   {
    "duration": 499,
    "start_time": "2022-03-18T17:54:08.711Z"
   },
   {
    "duration": 393,
    "start_time": "2022-03-18T17:54:09.212Z"
   },
   {
    "duration": 181,
    "start_time": "2022-03-18T17:54:09.610Z"
   },
   {
    "duration": 0,
    "start_time": "2022-03-18T17:54:09.801Z"
   },
   {
    "duration": 0,
    "start_time": "2022-03-18T17:54:09.802Z"
   },
   {
    "duration": 85,
    "start_time": "2022-03-18T18:14:38.237Z"
   },
   {
    "duration": 9,
    "start_time": "2022-03-18T18:14:40.820Z"
   },
   {
    "duration": 223,
    "start_time": "2022-03-18T18:14:56.558Z"
   },
   {
    "duration": 5,
    "start_time": "2022-03-18T18:14:58.478Z"
   },
   {
    "duration": 1469,
    "start_time": "2022-03-18T18:19:16.380Z"
   },
   {
    "duration": 51,
    "start_time": "2022-03-18T18:19:17.851Z"
   },
   {
    "duration": 5,
    "start_time": "2022-03-18T18:19:17.904Z"
   },
   {
    "duration": 6,
    "start_time": "2022-03-18T18:19:17.911Z"
   },
   {
    "duration": 18,
    "start_time": "2022-03-18T18:19:17.919Z"
   },
   {
    "duration": 21,
    "start_time": "2022-03-18T18:19:17.938Z"
   },
   {
    "duration": 6,
    "start_time": "2022-03-18T18:19:17.961Z"
   },
   {
    "duration": 56,
    "start_time": "2022-03-18T18:19:17.968Z"
   },
   {
    "duration": 17,
    "start_time": "2022-03-18T18:19:18.026Z"
   },
   {
    "duration": 4,
    "start_time": "2022-03-18T18:19:18.045Z"
   },
   {
    "duration": 4,
    "start_time": "2022-03-18T18:19:18.050Z"
   },
   {
    "duration": 22,
    "start_time": "2022-03-18T18:19:18.055Z"
   },
   {
    "duration": 131,
    "start_time": "2022-03-18T18:19:18.101Z"
   },
   {
    "duration": 8,
    "start_time": "2022-03-18T18:19:18.233Z"
   },
   {
    "duration": 10,
    "start_time": "2022-03-18T18:19:18.243Z"
   },
   {
    "duration": 23,
    "start_time": "2022-03-18T18:19:18.255Z"
   },
   {
    "duration": 680,
    "start_time": "2022-03-18T18:19:18.300Z"
   },
   {
    "duration": 12972,
    "start_time": "2022-03-18T18:19:18.982Z"
   },
   {
    "duration": 150,
    "start_time": "2022-03-18T18:19:31.955Z"
   },
   {
    "duration": 13169,
    "start_time": "2022-03-18T18:19:32.107Z"
   },
   {
    "duration": 12,
    "start_time": "2022-03-18T18:19:45.278Z"
   },
   {
    "duration": 19400,
    "start_time": "2022-03-18T18:19:45.291Z"
   },
   {
    "duration": 15,
    "start_time": "2022-03-18T18:20:04.692Z"
   },
   {
    "duration": 6978,
    "start_time": "2022-03-18T18:20:04.709Z"
   },
   {
    "duration": 682,
    "start_time": "2022-03-18T18:20:11.689Z"
   },
   {
    "duration": 850,
    "start_time": "2022-03-18T18:20:12.373Z"
   },
   {
    "duration": 342,
    "start_time": "2022-03-18T18:20:13.225Z"
   },
   {
    "duration": 137,
    "start_time": "2022-03-18T18:20:13.571Z"
   },
   {
    "duration": 293,
    "start_time": "2022-03-18T18:20:13.710Z"
   },
   {
    "duration": 300,
    "start_time": "2022-03-18T18:20:14.006Z"
   },
   {
    "duration": 246,
    "start_time": "2022-03-18T18:20:14.308Z"
   },
   {
    "duration": 238,
    "start_time": "2022-03-18T18:20:14.556Z"
   },
   {
    "duration": 5,
    "start_time": "2022-03-18T18:20:14.800Z"
   },
   {
    "duration": 2444,
    "start_time": "2022-03-18T19:31:28.854Z"
   },
   {
    "duration": 70,
    "start_time": "2022-03-18T19:31:31.302Z"
   },
   {
    "duration": 10,
    "start_time": "2022-03-18T19:31:31.383Z"
   },
   {
    "duration": 18,
    "start_time": "2022-03-18T19:31:31.396Z"
   },
   {
    "duration": 49,
    "start_time": "2022-03-18T19:31:31.416Z"
   },
   {
    "duration": 65,
    "start_time": "2022-03-18T19:31:31.468Z"
   },
   {
    "duration": 11,
    "start_time": "2022-03-18T19:31:31.535Z"
   },
   {
    "duration": 109,
    "start_time": "2022-03-18T19:31:31.549Z"
   },
   {
    "duration": 55,
    "start_time": "2022-03-18T19:31:31.663Z"
   },
   {
    "duration": 9,
    "start_time": "2022-03-18T19:31:31.724Z"
   },
   {
    "duration": 23,
    "start_time": "2022-03-18T19:31:31.736Z"
   },
   {
    "duration": 70,
    "start_time": "2022-03-18T19:31:31.762Z"
   },
   {
    "duration": 333,
    "start_time": "2022-03-18T19:31:31.835Z"
   },
   {
    "duration": 20,
    "start_time": "2022-03-18T19:31:32.171Z"
   },
   {
    "duration": 23,
    "start_time": "2022-03-18T19:31:32.194Z"
   },
   {
    "duration": 81,
    "start_time": "2022-03-18T19:31:32.220Z"
   },
   {
    "duration": 1577,
    "start_time": "2022-03-18T19:31:32.305Z"
   },
   {
    "duration": 30049,
    "start_time": "2022-03-18T19:31:33.889Z"
   },
   {
    "duration": 249,
    "start_time": "2022-03-18T19:32:03.941Z"
   },
   {
    "duration": 26800,
    "start_time": "2022-03-18T19:32:04.193Z"
   },
   {
    "duration": 24,
    "start_time": "2022-03-18T19:32:30.996Z"
   },
   {
    "duration": 31503,
    "start_time": "2022-03-18T19:32:31.022Z"
   },
   {
    "duration": 20,
    "start_time": "2022-03-18T19:33:02.529Z"
   },
   {
    "duration": 12219,
    "start_time": "2022-03-18T19:33:02.552Z"
   },
   {
    "duration": 1121,
    "start_time": "2022-03-18T19:33:14.784Z"
   },
   {
    "duration": 1418,
    "start_time": "2022-03-18T19:33:15.907Z"
   },
   {
    "duration": 602,
    "start_time": "2022-03-18T19:33:17.328Z"
   },
   {
    "duration": 971,
    "start_time": "2022-03-18T19:33:17.936Z"
   },
   {
    "duration": 302,
    "start_time": "2022-03-18T19:33:18.985Z"
   },
   {
    "duration": 208,
    "start_time": "2022-03-18T19:33:19.296Z"
   },
   {
    "duration": 210,
    "start_time": "2022-03-18T19:33:19.589Z"
   },
   {
    "duration": 507,
    "start_time": "2022-03-18T19:33:19.802Z"
   },
   {
    "duration": 9,
    "start_time": "2022-03-18T19:33:20.316Z"
   },
   {
    "duration": 52,
    "start_time": "2022-03-19T07:02:42.435Z"
   },
   {
    "duration": 1696,
    "start_time": "2022-03-19T07:02:48.110Z"
   },
   {
    "duration": 46,
    "start_time": "2022-03-19T07:02:49.808Z"
   },
   {
    "duration": 6,
    "start_time": "2022-03-19T07:02:49.856Z"
   },
   {
    "duration": 7,
    "start_time": "2022-03-19T07:02:49.865Z"
   },
   {
    "duration": 26,
    "start_time": "2022-03-19T07:02:49.874Z"
   },
   {
    "duration": 46,
    "start_time": "2022-03-19T07:02:49.902Z"
   },
   {
    "duration": 8,
    "start_time": "2022-03-19T07:02:49.949Z"
   },
   {
    "duration": 38,
    "start_time": "2022-03-19T07:02:49.959Z"
   },
   {
    "duration": 42,
    "start_time": "2022-03-19T07:02:49.999Z"
   },
   {
    "duration": 6,
    "start_time": "2022-03-19T07:02:50.044Z"
   },
   {
    "duration": 12,
    "start_time": "2022-03-19T07:02:50.052Z"
   },
   {
    "duration": 33,
    "start_time": "2022-03-19T07:02:50.066Z"
   },
   {
    "duration": 169,
    "start_time": "2022-03-19T07:02:50.100Z"
   },
   {
    "duration": 8,
    "start_time": "2022-03-19T07:02:50.270Z"
   },
   {
    "duration": 14,
    "start_time": "2022-03-19T07:02:50.280Z"
   },
   {
    "duration": 48,
    "start_time": "2022-03-19T07:02:50.295Z"
   },
   {
    "duration": 802,
    "start_time": "2022-03-19T07:02:50.344Z"
   },
   {
    "duration": 15475,
    "start_time": "2022-03-19T07:02:51.148Z"
   },
   {
    "duration": 412,
    "start_time": "2022-03-19T07:03:06.625Z"
   },
   {
    "duration": 14076,
    "start_time": "2022-03-19T07:03:07.040Z"
   },
   {
    "duration": 20,
    "start_time": "2022-03-19T07:03:21.118Z"
   },
   {
    "duration": 20159,
    "start_time": "2022-03-19T07:03:21.139Z"
   },
   {
    "duration": 14,
    "start_time": "2022-03-19T07:03:41.300Z"
   },
   {
    "duration": 7540,
    "start_time": "2022-03-19T07:03:41.316Z"
   },
   {
    "duration": 812,
    "start_time": "2022-03-19T07:03:48.858Z"
   },
   {
    "duration": 987,
    "start_time": "2022-03-19T07:03:49.672Z"
   },
   {
    "duration": 405,
    "start_time": "2022-03-19T07:03:50.661Z"
   },
   {
    "duration": 463,
    "start_time": "2022-03-19T07:03:51.070Z"
   },
   {
    "duration": 503,
    "start_time": "2022-03-19T07:03:51.535Z"
   },
   {
    "duration": 499,
    "start_time": "2022-03-19T07:03:52.040Z"
   },
   {
    "duration": 268,
    "start_time": "2022-03-19T07:03:52.541Z"
   },
   {
    "duration": 277,
    "start_time": "2022-03-19T07:03:52.811Z"
   },
   {
    "duration": 6,
    "start_time": "2022-03-19T07:03:53.090Z"
   },
   {
    "duration": 1429,
    "start_time": "2022-03-19T07:05:13.258Z"
   },
   {
    "duration": 44,
    "start_time": "2022-03-19T07:05:14.689Z"
   },
   {
    "duration": 6,
    "start_time": "2022-03-19T07:05:14.734Z"
   },
   {
    "duration": 9,
    "start_time": "2022-03-19T07:05:14.741Z"
   },
   {
    "duration": 20,
    "start_time": "2022-03-19T07:05:14.753Z"
   },
   {
    "duration": 26,
    "start_time": "2022-03-19T07:05:14.776Z"
   },
   {
    "duration": 34,
    "start_time": "2022-03-19T07:05:14.804Z"
   },
   {
    "duration": 41,
    "start_time": "2022-03-19T07:05:14.840Z"
   },
   {
    "duration": 21,
    "start_time": "2022-03-19T07:05:14.883Z"
   },
   {
    "duration": 28,
    "start_time": "2022-03-19T07:05:14.905Z"
   },
   {
    "duration": 4,
    "start_time": "2022-03-19T07:05:14.935Z"
   },
   {
    "duration": 27,
    "start_time": "2022-03-19T07:05:14.941Z"
   },
   {
    "duration": 180,
    "start_time": "2022-03-19T07:05:14.970Z"
   },
   {
    "duration": 9,
    "start_time": "2022-03-19T07:05:15.153Z"
   },
   {
    "duration": 13,
    "start_time": "2022-03-19T07:05:15.164Z"
   },
   {
    "duration": 29,
    "start_time": "2022-03-19T07:05:15.179Z"
   },
   {
    "duration": 824,
    "start_time": "2022-03-19T07:05:15.233Z"
   },
   {
    "duration": 14939,
    "start_time": "2022-03-19T07:05:16.059Z"
   },
   {
    "duration": 334,
    "start_time": "2022-03-19T07:05:31.000Z"
   },
   {
    "duration": 14580,
    "start_time": "2022-03-19T07:05:31.341Z"
   },
   {
    "duration": 17,
    "start_time": "2022-03-19T07:05:45.923Z"
   },
   {
    "duration": 21015,
    "start_time": "2022-03-19T07:05:45.942Z"
   },
   {
    "duration": 13,
    "start_time": "2022-03-19T07:06:06.958Z"
   },
   {
    "duration": 7742,
    "start_time": "2022-03-19T07:06:06.974Z"
   },
   {
    "duration": 827,
    "start_time": "2022-03-19T07:06:14.718Z"
   },
   {
    "duration": 1018,
    "start_time": "2022-03-19T07:06:15.548Z"
   },
   {
    "duration": 435,
    "start_time": "2022-03-19T07:06:16.568Z"
   },
   {
    "duration": 632,
    "start_time": "2022-03-19T07:06:17.005Z"
   },
   {
    "duration": 401,
    "start_time": "2022-03-19T07:06:17.640Z"
   },
   {
    "duration": 505,
    "start_time": "2022-03-19T07:06:18.134Z"
   },
   {
    "duration": 189,
    "start_time": "2022-03-19T07:06:18.643Z"
   },
   {
    "duration": 298,
    "start_time": "2022-03-19T07:06:18.833Z"
   },
   {
    "duration": 6,
    "start_time": "2022-03-19T07:06:19.133Z"
   },
   {
    "duration": 34,
    "start_time": "2022-03-19T07:18:20.276Z"
   },
   {
    "duration": 19,
    "start_time": "2022-03-19T07:18:41.242Z"
   },
   {
    "duration": 9,
    "start_time": "2022-03-19T07:18:57.387Z"
   },
   {
    "duration": 1591,
    "start_time": "2022-03-19T07:19:08.026Z"
   },
   {
    "duration": 45,
    "start_time": "2022-03-19T07:19:09.619Z"
   },
   {
    "duration": 7,
    "start_time": "2022-03-19T07:19:09.666Z"
   },
   {
    "duration": 19,
    "start_time": "2022-03-19T07:19:09.675Z"
   },
   {
    "duration": 33,
    "start_time": "2022-03-19T07:19:09.696Z"
   },
   {
    "duration": 29,
    "start_time": "2022-03-19T07:19:09.732Z"
   },
   {
    "duration": 12,
    "start_time": "2022-03-19T07:19:09.762Z"
   },
   {
    "duration": 66,
    "start_time": "2022-03-19T07:19:09.776Z"
   },
   {
    "duration": 38,
    "start_time": "2022-03-19T07:19:09.844Z"
   },
   {
    "duration": 46,
    "start_time": "2022-03-19T07:19:09.886Z"
   },
   {
    "duration": 7,
    "start_time": "2022-03-19T07:19:09.934Z"
   },
   {
    "duration": 38,
    "start_time": "2022-03-19T07:19:09.943Z"
   },
   {
    "duration": 186,
    "start_time": "2022-03-19T07:19:09.983Z"
   },
   {
    "duration": 9,
    "start_time": "2022-03-19T07:19:10.171Z"
   },
   {
    "duration": 22,
    "start_time": "2022-03-19T07:19:10.182Z"
   },
   {
    "duration": 68,
    "start_time": "2022-03-19T07:19:10.206Z"
   },
   {
    "duration": 845,
    "start_time": "2022-03-19T07:19:10.276Z"
   },
   {
    "duration": 15329,
    "start_time": "2022-03-19T07:19:11.122Z"
   },
   {
    "duration": 185,
    "start_time": "2022-03-19T07:19:26.452Z"
   },
   {
    "duration": 14698,
    "start_time": "2022-03-19T07:19:26.639Z"
   },
   {
    "duration": 13,
    "start_time": "2022-03-19T07:19:41.339Z"
   },
   {
    "duration": 20857,
    "start_time": "2022-03-19T07:19:41.353Z"
   },
   {
    "duration": 20,
    "start_time": "2022-03-19T07:20:02.212Z"
   },
   {
    "duration": 7715,
    "start_time": "2022-03-19T07:20:02.234Z"
   },
   {
    "duration": 821,
    "start_time": "2022-03-19T07:20:09.950Z"
   },
   {
    "duration": 994,
    "start_time": "2022-03-19T07:20:10.773Z"
   },
   {
    "duration": 400,
    "start_time": "2022-03-19T07:20:11.768Z"
   },
   {
    "duration": 267,
    "start_time": "2022-03-19T07:20:12.171Z"
   },
   {
    "duration": 401,
    "start_time": "2022-03-19T07:20:12.440Z"
   },
   {
    "duration": 404,
    "start_time": "2022-03-19T07:20:12.933Z"
   },
   {
    "duration": 191,
    "start_time": "2022-03-19T07:20:13.341Z"
   },
   {
    "duration": 286,
    "start_time": "2022-03-19T07:20:13.533Z"
   },
   {
    "duration": 12,
    "start_time": "2022-03-19T07:20:13.820Z"
   }
  ],
  "kernelspec": {
   "display_name": "Python 3 (ipykernel)",
   "language": "python",
   "name": "python3"
  },
  "language_info": {
   "codemirror_mode": {
    "name": "ipython",
    "version": 3
   },
   "file_extension": ".py",
   "mimetype": "text/x-python",
   "name": "python",
   "nbconvert_exporter": "python",
   "pygments_lexer": "ipython3",
   "version": "3.10.4"
  },
  "toc": {
   "base_numbering": 1,
   "nav_menu": {},
   "number_sections": true,
   "sideBar": true,
   "skip_h1_title": true,
   "title_cell": "Содержание",
   "title_sidebar": "Contents",
   "toc_cell": true,
   "toc_position": {
    "height": "calc(100% - 180px)",
    "left": "10px",
    "top": "150px",
    "width": "289.6px"
   },
   "toc_section_display": true,
   "toc_window_display": true
  }
 },
 "nbformat": 4,
 "nbformat_minor": 2
}
